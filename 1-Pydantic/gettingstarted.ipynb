{
 "cells": [
  {
   "cell_type": "markdown",
   "id": "29dc26ad",
   "metadata": {},
   "source": [
    "2. Normal Class vs @dataclass vs BaseModel (Pydantic)"
   ]
  },
  {
   "cell_type": "code",
   "execution_count": 2,
   "id": "b5dd660d",
   "metadata": {},
   "outputs": [],
   "source": [
    "#Normal Class Definition\n",
    "#But — no type checking, no default serialization, and if someone passes age=\"thirty\"… no errors!\n",
    "\n",
    "class User:\n",
    "    def __init__(self, name, age):\n",
    "        self.name = name\n",
    "        self.age = age\n",
    "\n",
    "u = User(\"Alice\", 30)"
   ]
  },
  {
   "cell_type": "code",
   "execution_count": null,
   "id": "85db88a7",
   "metadata": {},
   "outputs": [],
   "source": [
    "#Python 3.7 introduced @dataclass to reduce boilerplate.\n",
    "#But still: no automatic type validation, no built-in serialization.\n",
    "\n",
    "from dataclasses import dataclass\n",
    "\n",
    "@dataclass\n",
    "class User:\n",
    "    name: str\n",
    "    age: int\n",
    "\n",
    "u = User(\"Alice\", 30)\n",
    "print(u)"
   ]
  },
  {
   "cell_type": "code",
   "execution_count": null,
   "id": "8563bbde",
   "metadata": {},
   "outputs": [],
   "source": [
    "#pydantic.BaseModel\n",
    "#Clean \n",
    "#Type-safe (throws error if age=\"thirty\")\n",
    "#Easily serializable (.dict(), .json())\n",
    "#Auto-casting (age=\"30\" will be converted to int)\n",
    "\n",
    "from pydantic import BaseModel\n",
    "\n",
    "class User(BaseModel):\n",
    "    name: str\n",
    "    age: int\n",
    "\n",
    "u = User(name=\"Alice\", age=30)\n",
    "print(u)"
   ]
  },
  {
   "cell_type": "markdown",
   "id": "39d36690",
   "metadata": {},
   "source": [
    "3. Type Hinting in Python — The Foundation"
   ]
  },
  {
   "cell_type": "code",
   "execution_count": null,
   "id": "af938f62",
   "metadata": {},
   "outputs": [],
   "source": [
    "#Before Pydantic can do its magic, it needs a map — \n",
    "# and that’s what type hints are. They tell Pydantic (and your IDE!) what types of data to expect.\n",
    "\n",
    "from typing import Optional, List\n",
    "\n",
    "name: str         # expects a string\n",
    "age: int          # expects an integer\n",
    "score: float      # expects a float\n",
    "is_active: bool   # expects True or False\n",
    "bio: Optional[str]        # can be a string or None\n",
    "tags: List[str]           # a list of strings"
   ]
  },
  {
   "cell_type": "markdown",
   "id": "dbc3ac6f",
   "metadata": {},
   "source": [
    "4. Your First Pydantic Model"
   ]
  },
  {
   "cell_type": "code",
   "execution_count": 7,
   "id": "00be33ca",
   "metadata": {},
   "outputs": [
    {
     "name": "stdout",
     "output_type": "stream",
     "text": [
      "name='Alice' age=30\n",
      "{'name': 'Alice', 'age': 30}\n"
     ]
    }
   ],
   "source": [
    "from pydantic import BaseModel\n",
    "\n",
    "class User(BaseModel):\n",
    "    name: str\n",
    "    age: int\n",
    "\n",
    "u = User(name=\"Alice\", age=30)\n",
    "print(u)\n",
    "print(u.model_dump())"
   ]
  },
  {
   "cell_type": "code",
   "execution_count": null,
   "id": "87fcb464",
   "metadata": {},
   "outputs": [
    {
     "data": {
      "text/plain": [
       "User(name='Alice', age=30)"
      ]
     },
     "execution_count": 8,
     "metadata": {},
     "output_type": "execute_result"
    }
   ],
   "source": [
    "\"\"\"It prints a clean object and a serializable dictionary — \n",
    "perfect for APIs or AI tools that exchange JSON.\"\"\"\n",
    "\n",
    "User(name=\"Alice\", age=\"30\") # Pydantic automatically casts types when it can."
   ]
  },
  {
   "cell_type": "code",
   "execution_count": null,
   "id": "6f24a806",
   "metadata": {},
   "outputs": [],
   "source": [
    "User(name=\"Alice\", age=\"thirty\") #You’ll get a helpful ValidationError. That’s defensive programming done right."
   ]
  },
  {
   "cell_type": "markdown",
   "id": "9037f0bf",
   "metadata": {},
   "source": [
    "5. Validation Made Easy With Fields"
   ]
  },
  {
   "cell_type": "code",
   "execution_count": null,
   "id": "26ea997d",
   "metadata": {},
   "outputs": [],
   "source": [
    "\"\"\"Pydantic’s Field() lets you:\n",
    "Enforce basic rules like min/max values\n",
    "Set defaults\n",
    "Add helpful descriptions\n",
    "Define regex patterns\"\"\""
   ]
  },
  {
   "cell_type": "code",
   "execution_count": null,
   "id": "ad0a0ce0",
   "metadata": {},
   "outputs": [],
   "source": [
    "from pydantic import BaseModel, Field\n",
    "\n",
    "#Example 1: User Input Constraints\n",
    "\n",
    "class User(BaseModel):\n",
    "    username: str = Field(..., min_length=3, max_length=15, description=\"Username must be between 3 and 15 characters\")\n",
    "    age: int = Field(..., gt=0, lt=120, description=\"Age must be between 1 and 119\")"
   ]
  },
  {
   "cell_type": "code",
   "execution_count": null,
   "id": "e5d78e61",
   "metadata": {},
   "outputs": [],
   "source": [
    "#Example 2: Feedback Form\n",
    "\n",
    "from typing import Optional\n",
    "class Feedback(BaseModel):\n",
    "    rating: int = Field(..., ge=1, le=5, description=\"Rating from 1 (worst) to 5 (best)\")\n",
    "    comment: Optional[str] = Field(None, max_length=200)"
   ]
  },
  {
   "cell_type": "markdown",
   "id": "88a7db71",
   "metadata": {},
   "source": [
    "6. Nested Models and Reusability"
   ]
  },
  {
   "cell_type": "code",
   "execution_count": 13,
   "id": "4622cbad",
   "metadata": {},
   "outputs": [],
   "source": [
    "#With Pydantic, you can compose models like LEGO blocks:\n",
    "\n",
    "class Address(BaseModel):\n",
    "    city: str\n",
    "    zip_code: str\n",
    "\n",
    "class User(BaseModel):\n",
    "    name: str\n",
    "    address: Address"
   ]
  },
  {
   "cell_type": "code",
   "execution_count": 17,
   "id": "7af37879",
   "metadata": {},
   "outputs": [
    {
     "name": "stdout",
     "output_type": "stream",
     "text": [
      "name='Alice' address=Address(city='NYC', zip_code='10001')\n"
     ]
    }
   ],
   "source": [
    "#It automatically parses and validates nested dictionaries. You can even reuse Address in multiple models.\n",
    "\n",
    "user = User(name=\"Alice\", address={\"city\": \"NYC\", \"zip_code\": \"10001\"})\n",
    "print(user)"
   ]
  },
  {
   "cell_type": "markdown",
   "id": "90d1f8a8",
   "metadata": {},
   "source": [
    "7. Pydantic with FastAPI"
   ]
  },
  {
   "cell_type": "code",
   "execution_count": null,
   "id": "34c9fd66",
   "metadata": {},
   "outputs": [],
   "source": [
    "\"\"\"FastAPI is one of the most popular Python web frameworks right now — \n",
    "and Pydantic is the engine behind its speed and reliability. \n",
    "Every time you define a request body or response model in FastAPI, you’re using Pydantic behind the scenes.\"\"\""
   ]
  },
  {
   "cell_type": "code",
   "execution_count": null,
   "id": "afbad840",
   "metadata": {},
   "outputs": [],
   "source": [
    "%pip install fastapi\n",
    "from fastapi import FastAPI\n",
    "from pydantic import BaseModel\n",
    "\n",
    "app = FastAPI()\n",
    "\n",
    "class Item(BaseModel):\n",
    "    name: str\n",
    "    price: float\n",
    "\n",
    "@app.post(\"/items/\")\n",
    "async def create_item(item: Item):\n",
    "    return {\"message\": \"Item received!\", \"data\": item}"
   ]
  },
  {
   "cell_type": "code",
   "execution_count": null,
   "id": "c0ca923a",
   "metadata": {},
   "outputs": [],
   "source": [
    "\"\"\"FastAPI will:\n",
    "Automatically parse and validate the request body as an Item\n",
    "Generate interactive docs (/docs) using the schema from Pydantic\n",
    "Return a clean JSON response — also powered by Pydantic\"\"\""
   ]
  },
  {
   "cell_type": "markdown",
   "id": "347d8da5",
   "metadata": {},
   "source": [
    "8. Handy Pydantic Utilities"
   ]
  },
  {
   "cell_type": "code",
   "execution_count": null,
   "id": "85b1236a",
   "metadata": {},
   "outputs": [],
   "source": [
    "\"\"\"Pydantic isn’t just about validation — \n",
    "it also gives you clean tools to work with structured data. \n",
    "These come in handy when converting between JSON, dictionaries, \n",
    "or even untrusted inputs (hello, LLMs).\"\"\""
   ]
  }
 ],
 "metadata": {
  "kernelspec": {
   "display_name": "base",
   "language": "python",
   "name": "python3"
  },
  "language_info": {
   "codemirror_mode": {
    "name": "ipython",
    "version": 3
   },
   "file_extension": ".py",
   "mimetype": "text/x-python",
   "name": "python",
   "nbconvert_exporter": "python",
   "pygments_lexer": "ipython3",
   "version": "3.13.2"
  }
 },
 "nbformat": 4,
 "nbformat_minor": 5
}
