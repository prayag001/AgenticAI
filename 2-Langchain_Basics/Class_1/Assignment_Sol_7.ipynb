{
 "cells": [
  {
   "cell_type": "code",
   "execution_count": null,
   "id": "1fd91aa4",
   "metadata": {},
   "outputs": [],
   "source": [
    "import os\n",
    "from unstructured.partition.pdf import partition_pdf\n",
    "import pytesseract\n",
    "import uuid"
   ]
  },
  {
   "cell_type": "code",
   "execution_count": null,
   "id": "7714cc90",
   "metadata": {},
   "outputs": [],
   "source": [
    "from langchain.embeddings import OpenAIEmbeddings\n",
    "from langchain.retrievers.multi_vector import MultiVectorRetriever\n",
    "from langchain.schema.document import Document\n",
    "from langchain.storage import InMemoryStore\n",
    "from langchain.vectorstores import Chroma"
   ]
  },
  {
   "cell_type": "code",
   "execution_count": null,
   "id": "5d7b044a",
   "metadata": {},
   "outputs": [],
   "source": [
    "import base64\n",
    "from langchain.chat_models import ChatOpenAI\n",
    "from langchain.schema.messages import HumanMessage, AIMessage\n",
    "from dotenv import load_dotenv\n",
    "from langchain.schema.runnable import RunnablePassthrough\n",
    "from langchain.prompts import ChatPromptTemplate\n",
    "from langchain.schema.output_parser import StrOutputParser"
   ]
  },
  {
   "cell_type": "code",
   "execution_count": null,
   "id": "2f046f05",
   "metadata": {},
   "outputs": [],
   "source": [
    "os.environ[\"OPENAI_API_KEY\"] = os.getenv(\"OPENAI_API_KEY\")"
   ]
  },
  {
   "cell_type": "code",
   "execution_count": null,
   "id": "0034eac8",
   "metadata": {},
   "outputs": [],
   "source": [
    "input_path = os.getcwd()\n",
    "output_path = os.path.join(os.getcwd(), \"figures\")\n",
    "\n",
    "# Create the figures directory if it doesn't exist\n",
    "if not os.path.exists(output_path):\n",
    "    os.makedirs(output_path)"
   ]
  },
  {
   "cell_type": "markdown",
   "id": "90df7718",
   "metadata": {},
   "source": [
    "Extracting Images, Texts and Tables from PDF"
   ]
  },
  {
   "cell_type": "code",
   "execution_count": null,
   "id": "1c7db577",
   "metadata": {},
   "outputs": [],
   "source": [
    "raw_pdf_elements = partition_pdf(\n",
    "    filename=os.path.join(input_path, \"annual-report_fy2019_02_en.pdf\"),\n",
    "    extract_images_in_pdf=True,\n",
    "    strategy=\"fast\",  # Changed to fast strategy for better compatibility\n",
    "    infer_table_structure=True,\n",
    "    chunking_strategy=\"by_title\",\n",
    "    max_characters=5000,\n",
    "    new_after_n_chars=4800,\n",
    "    combine_text_under_n_chars=3000,\n",
    "    image_output_dir_path=output_path,\n",
    ")"
   ]
  },
  {
   "cell_type": "code",
   "execution_count": null,
   "id": "b9526596",
   "metadata": {},
   "outputs": [],
   "source": [
    "text_elements = []\n",
    "table_elements = []\n",
    "image_elements = []\n"
   ]
  },
  {
   "cell_type": "code",
   "execution_count": null,
   "id": "8e5e6c06",
   "metadata": {},
   "outputs": [],
   "source": [
    "def encode_image(image_path):\n",
    "    with open(image_path, \"rb\") as image_file:\n",
    "        return base64.b64encode(image_file.read()).decode('utf-8')\n",
    "    \n",
    "for element in raw_pdf_elements:\n",
    "    if 'CompositeElement' in str(type(element)):\n",
    "        text_elements.append(element)\n",
    "    elif 'Table' in str(type(element)):\n",
    "        table_elements.append(element)\n",
    "\n",
    "table_elements = [i.text for i in table_elements]\n",
    "text_elements = [i.text for i in text_elements]\n",
    "\n",
    "# Tables\n",
    "print(\"The length of table elements are :\", len(table_elements))\n",
    "\n",
    "# Text\n",
    "print(\"The length of text elements are :\", len(text_elements))\n",
    "\n",
    "for image_file in os.listdir(output_path):\n",
    "     if image_file.endswith(('.png', '.jpg', '.jpeg')):\n",
    "          image_path = os.path.join(output_path, image_file)\n",
    "          encoded_image = encode_image(image_path)\n",
    "          image_elements.append(encoded_image)\n",
    "\n",
    "# image\n",
    "print(\"The length of image elements are :\",len(image_elements))"
   ]
  },
  {
   "cell_type": "markdown",
   "id": "06d98d07",
   "metadata": {},
   "source": [
    "Applying Semantic Chunking:"
   ]
  },
  {
   "cell_type": "code",
   "execution_count": null,
   "id": "8ce1ce27",
   "metadata": {},
   "outputs": [],
   "source": [
    "#from langchain_experimental.text_splitter import SemanticChunker"
   ]
  },
  {
   "cell_type": "code",
   "execution_count": null,
   "id": "9d04053b",
   "metadata": {},
   "outputs": [],
   "source": [
    "chunker = SemanticChunker(OpenAIEmbeddings(), breakpoint_threshold_type=\"percentile\")"
   ]
  },
  {
   "cell_type": "code",
   "execution_count": null,
   "id": "0826cae5",
   "metadata": {},
   "outputs": [],
   "source": [
    "text_elements = [chunker.split_text(text) for text in text_elements]"
   ]
  },
  {
   "cell_type": "code",
   "execution_count": null,
   "id": "6c5317cf",
   "metadata": {},
   "outputs": [],
   "source": [
    "text_elements = [item for sublist in text_elements for item in (sublist if isinstance(sublist, list) else [sublist])]"
   ]
  },
  {
   "cell_type": "code",
   "execution_count": null,
   "id": "37ea30b5",
   "metadata": {},
   "outputs": [],
   "source": [
    "model = ChatOpenAI(model=\"gpt-4o\")"
   ]
  }
 ],
 "metadata": {
  "kernelspec": {
   "display_name": "Python 3",
   "language": "python",
   "name": "python3"
  },
  "language_info": {
   "codemirror_mode": {
    "name": "ipython",
    "version": 3
   },
   "file_extension": ".py",
   "mimetype": "text/x-python",
   "name": "python",
   "nbconvert_exporter": "python",
   "pygments_lexer": "ipython3",
   "version": "3.10.18"
  }
 },
 "nbformat": 4,
 "nbformat_minor": 5
}
