{
 "cells": [
  {
   "cell_type": "markdown",
   "id": "7b3f415d",
   "metadata": {},
   "source": [
    "This is a lightweight LLM-powered assistant that extracts the Product Name and its Tentative Price in USD from a product description."
   ]
  },
  {
   "cell_type": "code",
   "execution_count": 1,
   "id": "914e841f",
   "metadata": {},
   "outputs": [],
   "source": [
    "from langchain_core.prompts import ChatPromptTemplate\n",
    "from langchain_groq import ChatGroq\n",
    "from langchain_core.prompts import PromptTemplate\n",
    "from langchain_core.output_parsers import JsonOutputParser\n",
    "from pydantic import BaseModel, Field\n"
   ]
  },
  {
   "cell_type": "code",
   "execution_count": 2,
   "id": "73808e96",
   "metadata": {},
   "outputs": [],
   "source": [
    "def fake_db_retrival():\n",
    "    with open(\"product_details.txt\",\"r\")as file:\n",
    "        products= file.read().strip()\n",
    "    return products"
   ]
  },
  {
   "cell_type": "code",
   "execution_count": 3,
   "id": "45a90ba9",
   "metadata": {},
   "outputs": [],
   "source": [
    "llm = ChatGroq(model=\"gemma2-9b-it\")"
   ]
  },
  {
   "cell_type": "code",
   "execution_count": 4,
   "id": "2c3c44e4",
   "metadata": {},
   "outputs": [],
   "source": [
    "class Product(BaseModel):\n",
    "    item_number: str\n",
    "    category: str\n",
    "    description: str\n",
    "    price: int\n",
    "    product_information: str\n",
    "    "
   ]
  },
  {
   "cell_type": "code",
   "execution_count": 5,
   "id": "57db3606",
   "metadata": {},
   "outputs": [],
   "source": [
    "parser = JsonOutputParser(pydantic_object=Product)"
   ]
  },
  {
   "cell_type": "code",
   "execution_count": 6,
   "id": "c374cc92",
   "metadata": {},
   "outputs": [],
   "source": [
    "prompt = PromptTemplate(\n",
    "    template=\"You are a product catalogue assistant. Here are the product details: {product_details}\\n\"\n",
    "             \"Respond to the user's question about products based on product_details, and always repeat the user's question back before you respond.\\n\"\n",
    "             \"Answer the user query.\\n{format_instructions}\\nQuestion: {question}\",\n",
    "    input_variables=[\"question\", \"product_details\"],\n",
    "    partial_variables={\"format_instructions\": parser.get_format_instructions()},\n",
    ")"
   ]
  },
  {
   "cell_type": "code",
   "execution_count": 7,
   "id": "9a886fef",
   "metadata": {},
   "outputs": [
    {
     "data": {
      "text/plain": [
       "{'item_number': '10023',\n",
       " 'category': 'In-Ear Headphones',\n",
       " 'description': 'JBL Wave 200TWS, JBL Deep Bass Sound, 20 Hours of Combined Playback, Either Ear, or Both, Calls and Voice Assistant with Touch Control, Comfort-fit, Black',\n",
       " 'price': 99,\n",
       " 'product_information': 'Style: True Wireless Stick\\nColour: BLACK\\nBrand\\tJBL\\nColour\\tBLACK\\nEar placement\\tIn Ear\\nForm factor\\tIn Ear\\nNoise control\\tActive Noise Cancellation'}"
      ]
     },
     "execution_count": 7,
     "metadata": {},
     "output_type": "execute_result"
    }
   ],
   "source": [
    "chain = prompt | llm | parser\n",
    "\n",
    "question = \"Get me in ear headphones details?\"\n",
    "chain.invoke({\"question\": question, \"product_details\": fake_db_retrival()})"
   ]
  }
 ],
 "metadata": {
  "kernelspec": {
   "display_name": "Python 3",
   "language": "python",
   "name": "python3"
  },
  "language_info": {
   "codemirror_mode": {
    "name": "ipython",
    "version": 3
   },
   "file_extension": ".py",
   "mimetype": "text/x-python",
   "name": "python",
   "nbconvert_exporter": "python",
   "pygments_lexer": "ipython3",
   "version": "3.11.13"
  }
 },
 "nbformat": 4,
 "nbformat_minor": 5
}
