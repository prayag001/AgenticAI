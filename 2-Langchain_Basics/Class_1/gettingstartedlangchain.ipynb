{
 "cells": [
  {
   "cell_type": "markdown",
   "id": "e414a165",
   "metadata": {},
   "source": [
    "Prompt, Model Invoke, PromptTemplate,ChatPromotTemp, Chaining, OutputParser, LangSmith"
   ]
  },
  {
   "cell_type": "code",
   "execution_count": null,
   "id": "b8c9f2e2",
   "metadata": {},
   "outputs": [],
   "source": [
    "import os\n",
    "from dotenv import load_dotenv\n",
    "load_dotenv()"
   ]
  },
  {
   "cell_type": "code",
   "execution_count": null,
   "id": "ae74788a",
   "metadata": {},
   "outputs": [],
   "source": [
    "os.environ[\"OPENAI_API_KEY\"]=os.getenv(\"OPENAI_API_KEY\")\n",
    "os.environ[\"LANGCHAIN_API_KEY\"]=os.getenv (\"LANGCHAIN_API_KEY\")\n",
    "os.environ[\"LANGCHAIN_PROJECT\"]=os.getenv(\"LANGCHAIN_PROJECT\")\n",
    "os.environ[\"GROQ_API_KEY\"]=os.getenv(\"GROQ_API_KEY\")\n",
    "os.environ[\"LANGCHAIN_TRACING_V2\"]=\"true\""
   ]
  },
  {
   "cell_type": "code",
   "execution_count": null,
   "id": "ef3bc5e7",
   "metadata": {},
   "outputs": [],
   "source": [
    "os.environ[\"GROQ_API_KEY\"]=os.getenv(\"GROQ_API_KEY\")\n",
    "os.environ[\"LANGCHAIN_TRACING_V2\"]=\"true\""
   ]
  },
  {
   "cell_type": "code",
   "execution_count": null,
   "id": "3810cd78",
   "metadata": {},
   "outputs": [],
   "source": [
    "from langchain_openai import ChatOpenAI\n",
    "llm = ChatOpenAI(model=\"o1-mini\")\n",
    "print(llm)"
   ]
  },
  {
   "cell_type": "code",
   "execution_count": null,
   "id": "5e4c6653",
   "metadata": {},
   "outputs": [],
   "source": [
    "result = llm.invoke(\"What is the capital of France?\")\n",
    "print(result)"
   ]
  },
  {
   "cell_type": "code",
   "execution_count": null,
   "id": "813a66d4",
   "metadata": {},
   "outputs": [],
   "source": [
    "print(result.content)"
   ]
  },
  {
   "cell_type": "code",
   "execution_count": 17,
   "id": "56416ecc",
   "metadata": {},
   "outputs": [
    {
     "data": {
      "text/plain": [
       "AIMessage(content='\\n<think>\\nOkay, I need to answer the question \"What is the capital of India?\" Hmm, let me think. I remember that India is a country in South Asia. The capital city is usually the seat of the government. I think New Delhi is the capital, but wait, sometimes people confuse Delhi and New Delhi. Let me get this straight.\\n\\nFirst, Delhi is a large metropolitan area, and within that, New Delhi is a part of it. The government of India is located in New Delhi. So the capital is New Delhi. But sometimes people might refer to the entire city as Delhi. Let me double-check. \\n\\nI should make sure there hasn\\'t been any recent changes, but I don\\'t recall any such changes. India gained independence from British rule, and New Delhi has been the capital since then. Before that, during British rule, Calcutta (now Kolkata) was the capital, but after independence in 1947, New Delhi remained the capital. \\n\\nWait, is there any confusion with other cities? Like Mumbai is the financial capital, but the political capital is New Delhi. Yeah, that\\'s right. So the answer should be New Delhi. Let me confirm: the Parliament of India, the President\\'s residence, and the Supreme Court are all in New Delhi. So the capital is definitely New Delhi. I should also mention that it\\'s part of the National Capital Territory of Delhi, which is a union territory. Alright, I think that\\'s correct.\\n</think>\\n\\nThe capital of India is **New Delhi**. It serves as the administrative and political center of the country, housing key government institutions such as the Parliament of India, the Rashtrapati Bhavan (President\\'s residence), and the Supreme Court. New Delhi is part of the larger National Capital Territory (NCT) of Delhi, which is a union territory under the direct administration of the central government. \\n\\nWhile the terms \"Delhi\" and \"New Delhi\" are often used interchangeably in casual contexts, New Delhi specifically refers to the area developed in the early 20th century to serve as the British Indian Empire\\'s capital, later retained as the capital of independent India.', additional_kwargs={}, response_metadata={'token_usage': {'completion_tokens': 439, 'prompt_tokens': 17, 'total_tokens': 456, 'completion_time': 1.095207748, 'prompt_time': 0.008114257, 'queue_time': 10.894980915, 'total_time': 1.1033220049999999}, 'model_name': 'qwen-qwq-32b', 'system_fingerprint': 'fp_512a3da6bb', 'finish_reason': 'stop', 'logprobs': None}, id='run--4d5997a2-22b5-4fa6-b90a-2eb68532eac3-0', usage_metadata={'input_tokens': 17, 'output_tokens': 439, 'total_tokens': 456})"
      ]
     },
     "execution_count": 17,
     "metadata": {},
     "output_type": "execute_result"
    }
   ],
   "source": [
    "from langchain_groq import ChatGroq\n",
    "model = ChatGroq(model=\"qwen-qwq-32b\")\n",
    "model.invoke(\"What is the capital of India?\") "
   ]
  },
  {
   "cell_type": "code",
   "execution_count": null,
   "id": "bade6932",
   "metadata": {},
   "outputs": [],
   "source": [
    "from langchain_core.prompts import ChatPromptTemplate\n",
    "\n",
    "prompt = ChatPromptTemplate.from_messages(\n",
    "    \n",
    "    [\n",
    "        (\"system\", \"You are an expert AI engineer. Provide me an answer to the question.\"),\n",
    "        (\"user\", \"{input}\"),\n",
    "    ]\n",
    ")\n",
    "prompt"
   ]
  },
  {
   "cell_type": "code",
   "execution_count": null,
   "id": "b07b0b1c",
   "metadata": {},
   "outputs": [],
   "source": [
    "from langchain_groq import ChatGroq\n",
    "model = ChatGroq(model=\"gemma2-9b-it\")\n",
    "model"
   ]
  },
  {
   "cell_type": "code",
   "execution_count": null,
   "id": "00b1cf3e",
   "metadata": {},
   "outputs": [],
   "source": [
    "### chaining\n",
    "\n",
    "chain = prompt|model \n",
    "chain"
   ]
  },
  {
   "cell_type": "code",
   "execution_count": null,
   "id": "4ebafb21",
   "metadata": {},
   "outputs": [],
   "source": [
    "response = chain.invoke({\"input\": \"What is the capital of Japan?\"})\n",
    "print(response.content)"
   ]
  },
  {
   "cell_type": "code",
   "execution_count": null,
   "id": "04656f56",
   "metadata": {},
   "outputs": [],
   "source": [
    "from langchain_core.output_parsers import StrOutputParser\n",
    "output_parser = StrOutputParser()\n",
    "\n",
    "chain = prompt | model | output_parser\n",
    "response = chain.invoke({\"input\": \"Can you tell me about LangSmith?\"})\n",
    "print(response)"
   ]
  },
  {
   "cell_type": "code",
   "execution_count": null,
   "id": "e694f96c",
   "metadata": {},
   "outputs": [],
   "source": [
    "from langchain_core.output_parsers import JsonOutputParser\n",
    "output_parser = JsonOutputParser()\n",
    "from langchain_core.prompts import PromptTemplate\n",
    "\n",
    "prompt = PromptTemplate(\n",
    "    \n",
    "    template = \"Answer the user query \\n {format_instructions} \\n {query}\",\n",
    "    input_variables=[\"query\"],\n",
    "    partial_variables= {\"format_instructions\": output_parser.get_format_instructions()}\n",
    ")\n",
    "prompt"
   ]
  },
  {
   "cell_type": "code",
   "execution_count": null,
   "id": "fdb1ec9d",
   "metadata": {},
   "outputs": [],
   "source": [
    "chain = prompt | model | output_parser\n",
    "response = chain.invoke({\"query\": \"tell me about snow mountain ranges in the world\"})\n",
    "print(response)"
   ]
  },
  {
   "cell_type": "code",
   "execution_count": null,
   "id": "1b88f2b8",
   "metadata": {},
   "outputs": [],
   "source": [
    "from langchain_core.output_parsers import XMLOutputParser\n",
    "output_parser = XMLOutputParser()\n",
    "from langchain_core.prompts import ChatPromptTemplate\n",
    "\n",
    "prompt = ChatPromptTemplate.from_messages(\n",
    "    \n",
    "    [\n",
    "        (\"system\", \"You are an expert AI engineer. Respond in XML format: <response><answer>Provide me an answer to the question.</answer></response>\"),\n",
    "        (\"human\", \"{input}\"),\n",
    "    ]\n",
    ")\n",
    "prompt"
   ]
  },
  {
   "cell_type": "code",
   "execution_count": null,
   "id": "12e58417",
   "metadata": {},
   "outputs": [],
   "source": [
    "response = (prompt | model).invoke({\"input\": \"cricket playing countries?\"})\n",
    "print(response)"
   ]
  }
 ],
 "metadata": {
  "kernelspec": {
   "display_name": "base",
   "language": "python",
   "name": "python3"
  },
  "language_info": {
   "codemirror_mode": {
    "name": "ipython",
    "version": 3
   },
   "file_extension": ".py",
   "mimetype": "text/x-python",
   "name": "python",
   "nbconvert_exporter": "python",
   "pygments_lexer": "ipython3",
   "version": "3.13.2"
  }
 },
 "nbformat": 4,
 "nbformat_minor": 5
}
