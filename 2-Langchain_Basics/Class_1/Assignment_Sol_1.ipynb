{
 "cells": [
  {
   "cell_type": "markdown",
   "id": "45212bbc",
   "metadata": {},
   "source": [
    "AI Agent with Pydantic to get the Approximate price of the Product in $$\n",
    "\n",
    "Create a simple assistant that uses any LLM and it should use pydantic\n",
    "\n",
    "When we ask about any product it should give you two \n",
    "information of product Name, product details tentative price in USD (integer).\n",
    "\n",
    "Use chat Prompt Template."
   ]
  },
  {
   "cell_type": "code",
   "execution_count": null,
   "id": "3c685018",
   "metadata": {},
   "outputs": [],
   "source": [
    "#import libraries\n",
    "import os\n",
    "from dotenv import load_dotenv\n",
    "from pydantic import BaseModel, Field\n",
    "from dataclasses import dataclass\n",
    "from langchain_groq import ChatGroq\n",
    "from langchain_core.prompts import ChatPromptTemplate\n",
    "from langchain.output_parsers import PydanticOutputParser"
   ]
  },
  {
   "cell_type": "code",
   "execution_count": 3,
   "id": "b3a9e4c4",
   "metadata": {},
   "outputs": [],
   "source": [
    "#create pydantic product class\n",
    "@dataclass\n",
    "class Product(BaseModel):\n",
    "    product_name: str = Field(description=\"The name of the product\")\n",
    "    product_description: str = Field(description=\"The description of the product\")\n",
    "    product_price: float = Field(description=\"The price of the product in USD\")\n",
    "    "
   ]
  },
  {
   "cell_type": "code",
   "execution_count": 7,
   "id": "1b537e1d",
   "metadata": {},
   "outputs": [],
   "source": [
    "#evnironment variables\n",
    "load_dotenv()\n",
    "os.environ[\"GROQ_API_KEY\"]=os.getenv(\"GROQ_API_KEY\")\n",
    "\n",
    "os.environ[\"LANGCHAIN_API_KEY\"]=os.getenv(\"LANGCHAIN_API_KEY\")\n",
    "os.environ[\"LANGCHAIN_PROJECT\"]=os.getenv(\"LANGCHAIN_PROJECT\")\n",
    "os.environ[\"LANGCHAIN_TRACEING_V2\"]= \"true\""
   ]
  },
  {
   "cell_type": "code",
   "execution_count": 31,
   "id": "07db4dc0",
   "metadata": {},
   "outputs": [
    {
     "name": "stdout",
     "output_type": "stream",
     "text": [
      "client=<groq.resources.chat.completions.Completions object at 0x115309a70> async_client=<groq.resources.chat.completions.AsyncCompletions object at 0x11530a3f0> model_name='llama-3.1-8b-instant' model_kwargs={} groq_api_key=SecretStr('**********')\n"
     ]
    }
   ],
   "source": [
    "llm = ChatGroq(model=\"llama-3.1-8b-instant\")\n",
    "print(llm)\n"
   ]
  },
  {
   "cell_type": "code",
   "execution_count": 69,
   "id": "081a8af8",
   "metadata": {},
   "outputs": [],
   "source": [
    "parser = PydanticOutputParser(pydantic_object=Product)\n",
    "\n",
    "prompt = ChatPromptTemplate.from_messages([\n",
    "    (\"system\", \"\"\"You are a product information specialist. Your response must be a valid JSON object with the following structure:\n",
    "    {{\n",
    "        \"product_name\": \"name of product\",\n",
    "        \"product_description\": \"brief description\",\n",
    "        \"product_price\": \"Price of the product in USD\"\n",
    "    }}\"\"\"),\n",
    "    (\"human\", \"Please provide product information for {query}\\n\\n{format_instructions}\")\n",
    "])"
   ]
  },
  {
   "cell_type": "code",
   "execution_count": 79,
   "id": "67b14d27",
   "metadata": {},
   "outputs": [],
   "source": [
    "#create a chain\n",
    "chain = prompt| llm | parser\n",
    "\n",
    "response = chain.invoke({\n",
    "    \"query\": \"Apple iphone 16 pro max 128GB\",\n",
    "    \"format_instructions\": parser.get_format_instructions()\n",
    "})"
   ]
  },
  {
   "cell_type": "code",
   "execution_count": 82,
   "id": "12d6ad25",
   "metadata": {},
   "outputs": [
    {
     "name": "stdout",
     "output_type": "stream",
     "text": [
      "product_name: Apple iPhone 16 Pro Max\n",
      "product_description: The latest iPhone model with a 6.7-inch display, up to 16GB of RAM, and a quad-camera setup.\n",
      "product_price: 1599.99\n"
     ]
    }
   ],
   "source": [
    "#print(f\"Product Name is:{response.product_name}\")\n",
    "#print(f\"Product Description is: {response.product_description}\")\n",
    "#print(f\"Product Price is: ${response.product_price:.2f}\")\n",
    "\n",
    "for key, value in response.model_dump().items():\n",
    "    print(f\"{key}: {value}\")"
   ]
  }
 ],
 "metadata": {
  "kernelspec": {
   "display_name": "base",
   "language": "python",
   "name": "python3"
  },
  "language_info": {
   "codemirror_mode": {
    "name": "ipython",
    "version": 3
   },
   "file_extension": ".py",
   "mimetype": "text/x-python",
   "name": "python",
   "nbconvert_exporter": "python",
   "pygments_lexer": "ipython3",
   "version": "3.13.2"
  }
 },
 "nbformat": 4,
 "nbformat_minor": 5
}
