{
 "cells": [
  {
   "cell_type": "markdown",
   "id": "cc6f2f1d",
   "metadata": {},
   "source": [
    "Embeddings Huggging face, smilarity search, cosine and Nuclean distance similarity, FAISS vector, index(flat, HNSW, IVF), Retriever"
   ]
  },
  {
   "cell_type": "code",
   "execution_count": 9,
   "id": "abd03491",
   "metadata": {},
   "outputs": [],
   "source": [
    "import os\n",
    "from dotenv import load_dotenv"
   ]
  },
  {
   "cell_type": "code",
   "execution_count": null,
   "id": "66a4a604",
   "metadata": {},
   "outputs": [],
   "source": [
    "load_dotenv()"
   ]
  },
  {
   "cell_type": "code",
   "execution_count": 11,
   "id": "298095d8",
   "metadata": {},
   "outputs": [],
   "source": [
    "os.environ[\"HF_TOKEN\"] = os.getenv(\"HF_TOKEN\")"
   ]
  },
  {
   "cell_type": "code",
   "execution_count": null,
   "id": "3b3a5925",
   "metadata": {},
   "outputs": [],
   "source": [
    "from langchain_huggingface import HuggingFaceEmbeddings\n",
    "embedding = HuggingFaceEmbeddings(model_name=\"all-MiniLM-L6-v2\")"
   ]
  },
  {
   "cell_type": "code",
   "execution_count": null,
   "id": "cd800342",
   "metadata": {},
   "outputs": [],
   "source": [
    "embedding.embed_query(\"This is a test query\")"
   ]
  },
  {
   "cell_type": "code",
   "execution_count": 15,
   "id": "33528e84",
   "metadata": {},
   "outputs": [],
   "source": [
    "from sklearn.metrics.pairwise import cosine_similarity"
   ]
  },
  {
   "cell_type": "code",
   "execution_count": 16,
   "id": "cf5edff1",
   "metadata": {},
   "outputs": [],
   "source": [
    "documents=[\"what is the capital of France?\",\n",
    "           \"what is the capital of USA?\",\n",
    "           \"who is the Prime minister of India?\",\n",
    "           \"who is the president of USA?\"]"
   ]
  },
  {
   "cell_type": "code",
   "execution_count": 17,
   "id": "ed109526",
   "metadata": {},
   "outputs": [],
   "source": [
    "mq_query = \"Narendra Modi is the Prime Minister of India.\""
   ]
  },
  {
   "cell_type": "code",
   "execution_count": 18,
   "id": "dda1fde2",
   "metadata": {},
   "outputs": [],
   "source": [
    "document_embedding = embedding.embed_documents(documents)"
   ]
  },
  {
   "cell_type": "code",
   "execution_count": 21,
   "id": "013ea77c",
   "metadata": {},
   "outputs": [],
   "source": [
    "query_embedding = embedding.embed_query(mq_query)"
   ]
  },
  {
   "cell_type": "code",
   "execution_count": 22,
   "id": "dbf414ef",
   "metadata": {},
   "outputs": [
    {
     "data": {
      "text/plain": [
       "array([[0.11377665, 0.07118423, 0.76168932, 0.33584692]])"
      ]
     },
     "execution_count": 22,
     "metadata": {},
     "output_type": "execute_result"
    }
   ],
   "source": [
    "#it checks nearest similar query\n",
    "cosine_similarity([query_embedding], document_embedding)"
   ]
  },
  {
   "cell_type": "code",
   "execution_count": 23,
   "id": "670a974f",
   "metadata": {},
   "outputs": [],
   "source": [
    "from sklearn.metrics.pairwise import euclidean_distances"
   ]
  },
  {
   "cell_type": "code",
   "execution_count": 24,
   "id": "742181bf",
   "metadata": {},
   "outputs": [
    {
     "data": {
      "text/plain": [
       "array([[1.3313327 , 1.3629496 , 0.69037769, 1.15252163]])"
      ]
     },
     "execution_count": 24,
     "metadata": {},
     "output_type": "execute_result"
    }
   ],
   "source": [
    "#it checks nearest distance\n",
    "euclidean_distances([query_embedding], document_embedding)"
   ]
  },
  {
   "cell_type": "code",
   "execution_count": 25,
   "id": "fb599026",
   "metadata": {},
   "outputs": [],
   "source": [
    "import faiss\n",
    "from langchain_community.vectorstores import FAISS\n",
    "from langchain_community.docstore.in_memory import InMemoryDocstore"
   ]
  },
  {
   "cell_type": "code",
   "execution_count": 26,
   "id": "8e564ba0",
   "metadata": {},
   "outputs": [],
   "source": [
    "index = faiss.IndexFlatL2(384)"
   ]
  },
  {
   "cell_type": "code",
   "execution_count": 28,
   "id": "a598add5",
   "metadata": {},
   "outputs": [],
   "source": [
    "vector_store= FAISS(\n",
    "    embedding_function= embedding,\n",
    "    index=index,\n",
    "    docstore=InMemoryDocstore(),\n",
    "    index_to_docstore_id={},\n",
    ")"
   ]
  },
  {
   "cell_type": "code",
   "execution_count": 29,
   "id": "2235ec24",
   "metadata": {},
   "outputs": [],
   "source": [
    "from langchain_core.documents import Document\n",
    "\n",
    "document_1 = Document(\n",
    "    page_content=\"I had chocolate chip pancakes and scrambled eggs for breakfast this morning.\",\n",
    "    metadata={\"source\": \"tweet\"},\n",
    ")\n",
    "\n",
    "document_2 = Document(\n",
    "    page_content=\"The weather forecast for tomorrow is cloudy and overcast, with a high of 62 degrees.\",\n",
    "    metadata={\"source\": \"news\"},\n",
    ")\n",
    "\n",
    "document_3 = Document(\n",
    "    page_content=\"Building an exciting new project with LangChain - come check it out!\",\n",
    "    metadata={\"source\": \"tweet\"},\n",
    ")\n",
    "\n",
    "document_4 = Document(\n",
    "    page_content=\"Robbers broke into the city bank and stole $1 million in cash.\",\n",
    "    metadata={\"source\": \"news\"},\n",
    ")\n",
    "\n",
    "document_5 = Document(\n",
    "    page_content=\"Wow! That was an amazing movie. I can't wait to see it again.\",\n",
    "    metadata={\"source\": \"tweet\"},\n",
    ")\n",
    "\n",
    "document_6 = Document(\n",
    "    page_content=\"Is the new iPhone worth the price? Read this review to find out.\",\n",
    "    metadata={\"source\": \"website\"},\n",
    ")\n",
    "\n",
    "document_7 = Document(\n",
    "    page_content=\"The top 10 soccer players in the world right now.\",\n",
    "    metadata={\"source\": \"website\"},\n",
    ")\n",
    "\n",
    "document_8 = Document(\n",
    "    page_content=\"LangGraph is the best framework for building stateful, agentic applications!\",\n",
    "    metadata={\"source\": \"tweet\"},\n",
    ")\n",
    "\n",
    "document_9 = Document(\n",
    "    page_content=\"The stock market is down 500 points today due to fears of a recession.\",\n",
    "    metadata={\"source\": \"news\"},\n",
    ")\n",
    "\n",
    "document_10 = Document(\n",
    "    page_content=\"I have a bad feeling I am going to get deleted :(\",\n",
    "    metadata={\"source\": \"tweet\"},\n",
    ")"
   ]
  },
  {
   "cell_type": "code",
   "execution_count": 30,
   "id": "d8e52045",
   "metadata": {},
   "outputs": [],
   "source": [
    "documents = [\n",
    "    document_1,\n",
    "    document_2,\n",
    "    document_3,\n",
    "    document_4,\n",
    "    document_5,\n",
    "    document_6,\n",
    "    document_7,\n",
    "    document_8,\n",
    "    document_9,\n",
    "    document_10\n",
    "]"
   ]
  },
  {
   "cell_type": "code",
   "execution_count": 31,
   "id": "a72b6b12",
   "metadata": {},
   "outputs": [],
   "source": [
    "index = faiss.IndexFlatL2(384)\n",
    "vector_store = FAISS(\n",
    "    embedding_function=embedding,\n",
    "    index=index,\n",
    "    docstore=InMemoryDocstore(),\n",
    "    index_to_docstore_id={},\n",
    ")"
   ]
  },
  {
   "cell_type": "code",
   "execution_count": null,
   "id": "2c2e49aa",
   "metadata": {},
   "outputs": [],
   "source": [
    "vector_store.add_documents(documents)"
   ]
  },
  {
   "cell_type": "code",
   "execution_count": null,
   "id": "925fcbbf",
   "metadata": {},
   "outputs": [],
   "source": [
    "vector_store.similarity_search(\n",
    "    \"What is the best framework for building stateful, agentic applications?\",k=2)"
   ]
  },
  {
   "cell_type": "code",
   "execution_count": null,
   "id": "9ec31a6b",
   "metadata": {},
   "outputs": [],
   "source": [
    "vector_store.similarity_search(\n",
    "    query=\"What is the best framework for building stateful, agentic applications?\", \n",
    "    filter={\"source\": \"tweet\"}\n",
    ")"
   ]
  },
  {
   "cell_type": "code",
   "execution_count": 43,
   "id": "13fe4bb4",
   "metadata": {},
   "outputs": [],
   "source": [
    "result = vector_store.similarity_search(\n",
    "    query=\"What is the best framework for building stateful, agentic applications?\", \n",
    "    filter={\"source\":\"news\"}\n",
    ")"
   ]
  },
  {
   "cell_type": "code",
   "execution_count": 45,
   "id": "3f5c6d6d",
   "metadata": {},
   "outputs": [
    {
     "data": {
      "text/plain": [
       "'The weather forecast for tomorrow is cloudy and overcast, with a high of 62 degrees.'"
      ]
     },
     "execution_count": 45,
     "metadata": {},
     "output_type": "execute_result"
    }
   ],
   "source": [
    "result[0].page_content"
   ]
  },
  {
   "cell_type": "code",
   "execution_count": 49,
   "id": "b02f6955",
   "metadata": {},
   "outputs": [],
   "source": [
    "retriever = vector_store.as_retriever(search_kwargs={\"k\": 2})"
   ]
  },
  {
   "cell_type": "code",
   "execution_count": 50,
   "id": "f732d06e",
   "metadata": {},
   "outputs": [
    {
     "data": {
      "text/plain": [
       "[Document(metadata={'source': 'tweet'}, page_content='LangGraph is the best framework for building stateful, agentic applications!'),\n",
       " Document(metadata={'source': 'tweet'}, page_content='LangGraph is the best framework for building stateful, agentic applications!')]"
      ]
     },
     "execution_count": 50,
     "metadata": {},
     "output_type": "execute_result"
    }
   ],
   "source": [
    "retriever.invoke(\n",
    "    \"What is the best framework for building stateful, agentic applications?\")"
   ]
  },
  {
   "cell_type": "code",
   "execution_count": 51,
   "id": "a8e21ca6",
   "metadata": {},
   "outputs": [],
   "source": [
    "vector_store.save_local(\"faiss_index\")"
   ]
  },
  {
   "cell_type": "code",
   "execution_count": 56,
   "id": "a5fa3e2f",
   "metadata": {},
   "outputs": [],
   "source": [
    "new_vector_store = FAISS.load_local(\n",
    "    \"faiss_index\",\n",
    "   embedding, allow_dangerous_deserialization=True)"
   ]
  },
  {
   "cell_type": "code",
   "execution_count": 57,
   "id": "64ec79ba",
   "metadata": {},
   "outputs": [
    {
     "data": {
      "text/plain": [
       "[Document(metadata={'source': 'tweet'}, page_content='LangGraph is the best framework for building stateful, agentic applications!'),\n",
       " Document(metadata={'source': 'tweet'}, page_content='LangGraph is the best framework for building stateful, agentic applications!'),\n",
       " Document(metadata={'source': 'tweet'}, page_content='LangGraph is the best framework for building stateful, agentic applications!'),\n",
       " Document(metadata={'source': 'tweet'}, page_content='Building an exciting new project with LangChain - come check it out!')]"
      ]
     },
     "execution_count": 57,
     "metadata": {},
     "output_type": "execute_result"
    }
   ],
   "source": [
    "new_vector_store.similarity_search(\n",
    "    \"What is the best framework for building stateful, agentic applications?\")"
   ]
  },
  {
   "cell_type": "code",
   "execution_count": 58,
   "id": "a64bada1",
   "metadata": {},
   "outputs": [
    {
     "data": {
      "text/plain": [
       "[Document(metadata={'source': 'tweet'}, page_content='LangGraph is the best framework for building stateful, agentic applications!'),\n",
       " Document(metadata={'source': 'tweet'}, page_content='LangGraph is the best framework for building stateful, agentic applications!')]"
      ]
     },
     "execution_count": 58,
     "metadata": {},
     "output_type": "execute_result"
    }
   ],
   "source": [
    "new_vector_store.as_retriever(search_kwargs={\"k\": 2}).invoke(\n",
    "    \"What is the best framework for building stateful, agentic applications?\")"
   ]
  },
  {
   "cell_type": "code",
   "execution_count": 59,
   "id": "2be4001d",
   "metadata": {},
   "outputs": [],
   "source": [
    "from langchain_community.document_loaders import PyPDFLoader"
   ]
  },
  {
   "cell_type": "code",
   "execution_count": 76,
   "id": "577cb47a",
   "metadata": {},
   "outputs": [],
   "source": [
    "file_path = r\"/Users/prayagsonar/Downloads/Projects/AgenticAI/2-Langchain_Basics/Class_3/vectorStore/FAISS/llama2.pdf\""
   ]
  },
  {
   "cell_type": "code",
   "execution_count": 77,
   "id": "b8b409aa",
   "metadata": {},
   "outputs": [],
   "source": [
    "loader = PyPDFLoader(file_path)"
   ]
  },
  {
   "cell_type": "code",
   "execution_count": 90,
   "id": "f4e3f39c",
   "metadata": {},
   "outputs": [],
   "source": [
    "pages = loader.load()"
   ]
  },
  {
   "cell_type": "code",
   "execution_count": 91,
   "id": "2bc918a5",
   "metadata": {},
   "outputs": [],
   "source": [
    "from langchain_text_splitters import RecursiveCharacterTextSplitter"
   ]
  },
  {
   "cell_type": "code",
   "execution_count": 93,
   "id": "becedbda",
   "metadata": {},
   "outputs": [],
   "source": [
    "splitter = RecursiveCharacterTextSplitter(\n",
    "    chunk_size=500, #hyperparameter\n",
    "    chunk_overlap=100,)"
   ]
  },
  {
   "cell_type": "code",
   "execution_count": 95,
   "id": "386cb507",
   "metadata": {},
   "outputs": [],
   "source": [
    "split_docs = splitter.split_documents(pages)"
   ]
  },
  {
   "cell_type": "code",
   "execution_count": 96,
   "id": "914e318f",
   "metadata": {},
   "outputs": [
    {
     "data": {
      "text/plain": [
       "652"
      ]
     },
     "execution_count": 96,
     "metadata": {},
     "output_type": "execute_result"
    }
   ],
   "source": [
    "len(split_docs)"
   ]
  },
  {
   "cell_type": "code",
   "execution_count": 97,
   "id": "083029ed",
   "metadata": {},
   "outputs": [],
   "source": [
    "index = faiss.IndexFlatL2(384)\n",
    "vector_store = FAISS(\n",
    "    embedding_function=embedding,\n",
    "    index=index,\n",
    "    docstore=InMemoryDocstore(),\n",
    "    index_to_docstore_id={},\n",
    ")"
   ]
  },
  {
   "cell_type": "code",
   "execution_count": null,
   "id": "fb2badf0",
   "metadata": {},
   "outputs": [],
   "source": [
    "vector_store.add_documents(split_docs)"
   ]
  },
  {
   "cell_type": "code",
   "execution_count": 100,
   "id": "0c62da7b",
   "metadata": {},
   "outputs": [],
   "source": [
    "retriever= vector_store.as_retriever(search_kwargs={\"k\": 10})"
   ]
  },
  {
   "cell_type": "code",
   "execution_count": null,
   "id": "3dba5676",
   "metadata": {},
   "outputs": [],
   "source": [
    "retriever.invoke(\n",
    "    \"what is the llama model\")"
   ]
  }
 ],
 "metadata": {
  "kernelspec": {
   "display_name": "Python 3",
   "language": "python",
   "name": "python3"
  },
  "language_info": {
   "codemirror_mode": {
    "name": "ipython",
    "version": 3
   },
   "file_extension": ".py",
   "mimetype": "text/x-python",
   "name": "python",
   "nbconvert_exporter": "python",
   "pygments_lexer": "ipython3",
   "version": "3.10.18"
  }
 },
 "nbformat": 4,
 "nbformat_minor": 5
}
