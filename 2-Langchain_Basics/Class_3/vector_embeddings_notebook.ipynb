{
 "cells": [
  {
   "cell_type": "markdown",
   "id": "introduction",
   "metadata": {},
   "source": [
    "# Vector Embeddings: From Basics to Building a LangChain-Powered Assistant\n",
    "\n",
    "## 1. Introduction\n",
    "\n",
    "In today's AI-driven world, machines need more than just raw text — they need understanding. That's where **vector embeddings** come in. These powerful numerical representations transform words, sentences, and even full documents into high-dimensional vectors that capture meaning, context, and relationships.\n",
    "\n",
    "Whether you're building a **semantic search engine**, a **recommendation system**, or a **chatbot that actually gets you**, embeddings are the foundation. They allow AI models to measure similarity, detect nuance, and connect ideas in ways traditional databases simply can't.\n",
    "\n",
    "***Think of embeddings as the bridge between human language and machine reasoning.***\n",
    "\n",
    "This notebook takes you from the **absolute basics** of embeddings to building a **hands-on LangChain-powered assistant** using Python. We'll explore:\n",
    "\n",
    "- How embeddings work\n",
    "- Where they're used\n",
    "- The difference between traditional and vector databases\n",
    "- And how to use tools like **OpenAI**, **HuggingFace**, **FAISS**, and **LangChain** to bring it all together.\n",
    "\n",
    "Let's dive in and demystify embeddings — from zero to hero."
   ]
  },
  {
   "cell_type": "markdown",
   "id": "nlp_prerequisites",
   "metadata": {},
   "source": [
    "## 2. NLP Prerequisites\n",
    "\n",
    "Before diving deep into vector embeddings, it's essential to understand a few key NLP concepts that form the foundation of how text is processed and understood by machines."
   ]
  },
  {
   "cell_type": "markdown",
   "id": "tokenization",
   "metadata": {},
   "source": [
    "### 2.1. Tokenization\n",
    "\n",
    "Tokenization breaks down a sentence or document into smaller units called tokens — typically words or subwords."
   ]
  },
  {
   "cell_type": "code",
   "execution_count": null,
   "id": "tokenization_example",
   "metadata": {},
   "outputs": [],
   "source": [
    "from nltk.tokenize import word_tokenize\n",
    "import nltk\n",
    "\n",
    "# Download required NLTK data (run once)\n",
    "nltk.download('punkt')\n",
    "\n",
    "text = \"Vector embeddings are powerful!\"\n",
    "tokens = word_tokenize(text)\n",
    "print(tokens)"
   ]
  },
  {
   "cell_type": "markdown",
   "id": "stopwords",
   "metadata": {},
   "source": [
    "### 2.2. Stopwords\n",
    "\n",
    "Stopwords are common words like \"and\", \"the\", \"is\" that carry minimal meaning and are often removed in preprocessing."
   ]
  },
  {
   "cell_type": "code",
   "execution_count": null,
   "id": "stopwords_example",
   "metadata": {},
   "outputs": [],
   "source": [
    "from nltk.corpus import stopwords\n",
    "\n",
    "# Download stopwords data (run once)\n",
    "nltk.download('stopwords')\n",
    "\n",
    "stop_words = set(stopwords.words('english'))\n",
    "filtered_tokens = [w for w in tokens if w.lower() not in stop_words]\n",
    "print(filtered_tokens)"
   ]
  },
  {
   "cell_type": "markdown",
   "id": "lemmatization",
   "metadata": {},
   "source": [
    "### 2.3. Lemmatization\n",
    "\n",
    "Lemmatization reduces words to their base form using context and vocabulary."
   ]
  },
  {
   "cell_type": "code",
   "execution_count": null,
   "id": "lemmatization_example",
   "metadata": {},
   "outputs": [],
   "source": [
    "from nltk.stem import WordNetLemmatizer\n",
    "\n",
    "# Download wordnet data (run once)\n",
    "nltk.download('wordnet')\n",
    "\n",
    "lemmatizer = WordNetLemmatizer()\n",
    "print(lemmatizer.lemmatize(\"running\"))\n",
    "print(lemmatizer.lemmatize(\"better\", pos='a'))  # adjective\n",
    "print(lemmatizer.lemmatize(\"ran\", pos='v'))     # verb"
   ]
  },
  {
   "cell_type": "markdown",
   "id": "bag_of_words",
   "metadata": {},
   "source": [
    "### 2.4. Bag of Words (BoW)\n",
    "\n",
    "A simple model that represents text as a vector of word counts."
   ]
  },
  {
   "cell_type": "code",
   "execution_count": null,
   "id": "bow_example",
   "metadata": {},
   "outputs": [],
   "source": [
    "from sklearn.feature_extraction.text import CountVectorizer\n",
    "\n",
    "corpus = [\"Embeddings convert text into vectors.\", \"Vectors can be compared mathematically.\"]\n",
    "vectorizer = CountVectorizer()\n",
    "bow_matrix = vectorizer.fit_transform(corpus)\n",
    "\n",
    "print(\"Feature names:\", vectorizer.get_feature_names_out())\n",
    "print(\"BoW matrix:\")\n",
    "print(bow_matrix.toarray())"
   ]
  },
  {
   "cell_type": "markdown",
   "id": "tfidf",
   "metadata": {},
   "source": [
    "### 2.5. TF-IDF (Term Frequency-Inverse Document Frequency)\n",
    "\n",
    "Weights words based on how important they are to a document in a corpus."
   ]
  },
  {
   "cell_type": "code",
   "execution_count": null,
   "id": "tfidf_example",
   "metadata": {},
   "outputs": [],
   "source": [
    "from sklearn.feature_extraction.text import TfidfVectorizer\n",
    "\n",
    "vectorizer = TfidfVectorizer()\n",
    "tfidf_matrix = vectorizer.fit_transform(corpus)\n",
    "\n",
    "print(\"Feature names:\", vectorizer.get_feature_names_out())\n",
    "print(\"TF-IDF matrix:\")\n",
    "print(tfidf_matrix.toarray())"
   ]
  },
  {
   "cell_type": "markdown",
   "id": "word2vec_intro",
   "metadata": {},
   "source": [
    "### 2.6. Word2Vec (Intro)\n",
    "\n",
    "Word2Vec learns word associations from large text corpora, producing meaningful word embeddings."
   ]
  },
  {
   "cell_type": "code",
   "execution_count": null,
   "id": "word2vec_example",
   "metadata": {},
   "outputs": [],
   "source": [
    "from gensim.models import Word2Vec\n",
    "\n",
    "sentences = [[\"vector\", \"embeddings\", \"are\", \"useful\"], \n",
    "             [\"machine\", \"learning\", \"uses\", \"vectors\"],\n",
    "             [\"embeddings\", \"capture\", \"semantic\", \"meaning\"]]\n",
    "\n",
    "model = Word2Vec(sentences, min_count=1, vector_size=100, window=5)\n",
    "print(\"Vector for 'vector':\")\n",
    "print(model.wv[\"vector\"][:10])  # Show first 10 dimensions\n",
    "print(f\"Vector size: {len(model.wv['vector'])}\")"
   ]
  },
  {
   "cell_type": "markdown",
   "id": "text_to_vectors",
   "metadata": {},
   "source": [
    "## 3. From Text to Vectors\n",
    "\n",
    "At the heart of modern NLP lies a simple idea: **convert text into numbers**. Why? Because machines don't understand words — they understand **vectors** (i.e., arrays of numbers). That's where embeddings step in.\n",
    "\n",
    "### 3.1. Main Goal of Embeddings\n",
    "\n",
    "Transform natural language into a **dense vector representation** that captures the meaning and context of the input."
   ]
  },
  {
   "cell_type": "markdown",
   "id": "one_hot_encoding",
   "metadata": {},
   "source": [
    "### 3.2. One-Hot Encoding: The Old School Way\n",
    "\n",
    "Before embeddings, we used **one-hot encoding**. It represents each word as a binary vector with only one '1' and the rest '0s'.\n",
    "\n",
    "**Limitations:**\n",
    "- Doesn't capture any relationship between words\n",
    "- Results in high-dimensional sparse vectors"
   ]
  },
  {
   "cell_type": "code",
   "execution_count": null,
   "id": "one_hot_example",
   "metadata": {},
   "outputs": [],
   "source": [
    "import numpy as np\n",
    "\n",
    "# Example vocabulary\n",
    "vocabulary = [\"king\", \"queen\", \"man\", \"woman\"]\n",
    "vocab_size = len(vocabulary)\n",
    "\n",
    "# One-hot encoding for \"king\"\n",
    "king_index = vocabulary.index(\"king\")\n",
    "king_one_hot = np.zeros(vocab_size)\n",
    "king_one_hot[king_index] = 1\n",
    "\n",
    "print(f\"Vocabulary: {vocabulary}\")\n",
    "print(f\"'king' → {king_one_hot}\")\n",
    "print(f\"Vector size: {len(king_one_hot)}\")\n",
    "print(f\"Non-zero elements: {np.count_nonzero(king_one_hot)}\")"
   ]
  },
  {
   "cell_type": "markdown",
   "id": "embeddings_modern",
   "metadata": {},
   "source": [
    "### 3.3. Embeddings: The Modern Way\n",
    "\n",
    "Instead of binary vectors, **embeddings assign each word a dense, fixed-length vector**. These vectors are learned from data and capture semantic relationships.\n",
    "\n",
    "These embeddings enable **semantic arithmetic**:\n",
    "- `king - man + woman ≈ queen`"
   ]
  },
  {
   "cell_type": "code",
   "execution_count": null,
   "id": "semantic_arithmetic",
   "metadata": {},
   "outputs": [],
   "source": [
    "# Example with random embeddings (in practice, these are learned)\n",
    "np.random.seed(42)\n",
    "embedding_dim = 50\n",
    "\n",
    "# Create sample embeddings\n",
    "embeddings = {\n",
    "    \"king\": np.random.randn(embedding_dim),\n",
    "    \"queen\": np.random.randn(embedding_dim),\n",
    "    \"man\": np.random.randn(embedding_dim),\n",
    "    \"woman\": np.random.randn(embedding_dim)\n",
    "}\n",
    "\n",
    "print(f\"'king' embedding (first 10 dims): {embeddings['king'][:10]}\")\n",
    "print(f\"Embedding size: {len(embeddings['king'])}\")\n",
    "\n",
    "# Semantic arithmetic example\n",
    "result = embeddings['king'] - embeddings['man'] + embeddings['woman']\n",
    "print(f\"\\nSemantic arithmetic result (first 10 dims): {result[:10]}\")"
   ]
  },
  {
   "cell_type": "markdown",
   "id": "same_length",
   "metadata": {},
   "source": [
    "### 3.4. Same Length, Different Texts\n",
    "\n",
    "One of the most powerful things about embeddings is that **any sentence, no matter how long, gets converted to a vector of the same length**. The length is determined by the model (e.g., 384 for MiniLM, 3072 for OpenAI's `text-embedding-3-large`)."
   ]
  },
  {
   "cell_type": "markdown",
   "id": "why_it_matters",
   "metadata": {},
   "source": [
    "### 3.5. Why It Matters\n",
    "\n",
    "This transformation lets us:\n",
    "- Measure **similarity** between texts using cosine distance\n",
    "- Build **search engines** and **recommendation systems**\n",
    "- Feed meaningful inputs into deep learning models"
   ]
  },
  {
   "cell_type": "markdown",
   "id": "types_of_embeddings",
   "metadata": {},
   "source": [
    "## 4. Types of Embeddings\n",
    "\n",
    "Not all embeddings are created equal. Depending on the task, different types of embeddings help represent language at varying levels of granularity."
   ]
  },
  {
   "cell_type": "markdown",
   "id": "word_embeddings",
   "metadata": {},
   "source": [
    "### 4.1. Word Embeddings\n",
    "\n",
    "Each word is mapped to a unique vector. Captures meaning based on usage across a large corpus.\n",
    "\n",
    "- **Common Models:** Word2Vec, GloVe, FastText\n",
    "- **Good for:** Analogy tasks, sentiment analysis\n",
    "- **Limitation:** Same vector for the word \"bank\" (river bank vs. money bank)"
   ]
  },
  {
   "cell_type": "code",
   "execution_count": null,
   "id": "word_embeddings_example",
   "metadata": {},
   "outputs": [],
   "source": [
    "# Extended Word2Vec example\n",
    "from gensim.models import Word2Vec\n",
    "\n",
    "# Larger corpus for better embeddings\n",
    "sentences = [\n",
    "    [\"king\", \"queen\", \"man\", \"woman\"],\n",
    "    [\"paris\", \"france\", \"london\", \"england\"],\n",
    "    [\"dog\", \"puppy\", \"cat\", \"kitten\"],\n",
    "    [\"computer\", \"technology\", \"software\", \"programming\"],\n",
    "    [\"machine\", \"learning\", \"artificial\", \"intelligence\"]\n",
    "]\n",
    "\n",
    "model = Word2Vec(sentences, min_count=1, vector_size=100, window=5, epochs=100)\n",
    "\n",
    "# Find similar words\n",
    "try:\n",
    "    similar_words = model.wv.most_similar(\"king\", topn=3)\n",
    "    print(f\"Words similar to 'king': {similar_words}\")\n",
    "except KeyError:\n",
    "    print(\"Need more training data for meaningful similarities\")\n",
    "\n",
    "print(f\"\\nVector for 'king' (first 10 dims): {model.wv['king'][:10]}\")"
   ]
  },
  {
   "cell_type": "markdown",
   "id": "sentence_embeddings",
   "metadata": {},
   "source": [
    "### 4.2. Sentence Embeddings\n",
    "\n",
    "Encodes entire sentences into a single vector that captures overall meaning.\n",
    "\n",
    "- **Common Models:** SBERT, Universal Sentence Encoder\n",
    "- **Good for:** Semantic search, duplicate detection\n",
    "- **Advantage:** Handles word order, punctuation, and meaning"
   ]
  },
  {
   "cell_type": "code",
   "execution_count": null,
   "id": "sentence_embeddings_setup",
   "metadata": {},
   "outputs": [],
   "source": [
    "# Install sentence-transformers if not already installed\n",
    "# !pip install sentence-transformers\n",
    "\n",
    "# Note: This cell demonstrates the concept. \n",
    "# Uncomment and run if you have sentence-transformers installed\n",
    "\n",
    "# from sentence_transformers import SentenceTransformer\n",
    "# model = SentenceTransformer('all-MiniLM-L6-v2')\n",
    "# embedding = model.encode(\"Vector embeddings are powerful.\")\n",
    "# print(f\"Sentence embedding shape: {embedding.shape}\")\n",
    "# print(f\"First 10 dimensions: {embedding[:10]}\")\n",
    "\n",
    "print(\"Sentence embeddings example (install sentence-transformers to run)\")\n",
    "print(\"This would produce a 384-dimensional vector for any input sentence\")"
   ]
  },
  {
   "cell_type": "markdown",
   "id": "document_embeddings",
   "metadata": {},
   "source": [
    "### 4.3. Document Embeddings\n",
    "\n",
    "Goes beyond sentences to capture the context of a full document.\n",
    "\n",
    "- **Common Models:** Doc2Vec, DPR (Dense Passage Retriever)\n",
    "- **Good for:** Large-scale document similarity, classification"
   ]
  },
  {
   "cell_type": "markdown",
   "id": "multimodal_embeddings",
   "metadata": {},
   "source": [
    "### 4.4. Multimodal Embeddings\n",
    "\n",
    "Maps images, audio, and text into the same vector space.\n",
    "\n",
    "- **Used in:** CLIP, DALL·E, Flamingo\n",
    "- **Good for:** Cross-modal search (e.g., image captioning, visual Q&A)\n",
    "\n",
    "Each type of embedding plays a role in solving different real-world problems. Next, let's get our hands dirty with a **hands-on demo using LangChain and OpenAI embeddings**."
   ]
  },
  {
   "cell_type": "markdown",
   "id": "langchain_embeddings",
   "metadata": {},
   "source": [
    "## 5. LangChain Embeddings (Hands-on with OpenAI & Hugging Face)\n",
    "\n",
    "Let's get practical! We'll use **LangChain**, a framework that makes working with LLMs and vector stores incredibly simple. First, we'll generate embeddings using **OpenAI** and **Hugging Face**, then compare them."
   ]
  },
  {
   "cell_type": "markdown",
   "id": "setup_environment",
   "metadata": {},
   "source": [
    "### 5.1. Setup Environment\n",
    "\n",
    "Install dependencies and load your environment variables."
   ]
  },
  {
   "cell_type": "code",
   "execution_count": null,
   "id": "install_dependencies",
   "metadata": {},
   "outputs": [],
   "source": [
    "# Install required packages\n",
    "# !pip install langchain-openai langchain-huggingface python-dotenv\n",
    "\n",
    "import os\n",
    "from dotenv import load_dotenv\n",
    "\n",
    "# Load environment variables from .env file\n",
    "load_dotenv()\n",
    "\n",
    "print(\"Environment setup complete!\")\n",
    "print(\"Make sure to create a .env file with your API keys:\")\n",
    "print(\"OPENAI_API_KEY=your_openai_key_here\")\n",
    "print(\"HF_TOKEN=your_huggingface_token_here\")"
   ]
  },
  {
   "cell_type": "markdown",
   "id": "openai_embeddings",
   "metadata": {},
   "source": [
    "### 5.2. OpenAI Embeddings with LangChain"
   ]
  },
  {
   "cell_type": "code",
   "execution_count": null,
   "id": "openai_embeddings_example",
   "metadata": {},
   "outputs": [],
   "source": [
    "# Note: Uncomment and run if you have OpenAI API key set up\n",
    "\n",
    "# from langchain_openai import OpenAIEmbeddings\n",
    "\n",
    "# embeddings = OpenAIEmbeddings(model=\"text-embedding-3-large\")\n",
    "# text = \"This is a blog post on vector embeddings.\"\n",
    "# embeddings_result = embeddings.embed_query(text)\n",
    "\n",
    "# print(f\"Length: {len(embeddings_result)}\")\n",
    "# print(f\"Type: {type(embeddings_result)}\")\n",
    "# print(f\"First 10 dimensions: {embeddings_result[:10]}\")\n",
    "\n",
    "print(\"OpenAI Embeddings Example:\")\n",
    "print(\"- Length: 3072 (for text-embedding-3-large)\")\n",
    "print(\"- Type: <class 'list'>\")\n",
    "print(\"- Same vector length for any input text\")\n",
    "print(\"- Perfect for semantic search or vector similarity\")"
   ]
  },
  {
   "cell_type": "markdown",
   "id": "dimension_reduction",
   "metadata": {},
   "source": [
    "### 5.3. Dimension Reduction (Optional)\n",
    "\n",
    "You can reduce dimensions using LangChain's built-in config:"
   ]
  },
  {
   "cell_type": "code",
   "execution_count": null,
   "id": "dimension_reduction_example",
   "metadata": {},
   "outputs": [],
   "source": [
    "# embeddings = OpenAIEmbeddings(model=\"text-embedding-3-large\", dimensions=1024)\n",
    "# You'll lose some granularity, but it helps with storage and speed.\n",
    "\n",
    "print(\"Dimension reduction example:\")\n",
    "print(\"Original: 3072 dimensions\")\n",
    "print(\"Reduced: 1024 dimensions\")\n",
    "print(\"Benefits: Faster processing, less storage, slight accuracy trade-off\")"
   ]
  },
  {
   "cell_type": "markdown",
   "id": "huggingface_embeddings",
   "metadata": {},
   "source": [
    "### 5.4. Hugging Face Embeddings (Open Source)\n",
    "\n",
    "You can create a free account on Hugging Face and generate a new access key under settings and include that key in your .env file as `HF_TOKEN=hf_vCixxxxxxxxxxxxxxxxxxxxx`"
   ]
  },
  {
   "cell_type": "code",
   "execution_count": null,
   "id": "huggingface_embeddings_example",
   "metadata": {},
   "outputs": [],
   "source": [
    "# Note: Uncomment and run if you have HuggingFace set up\n",
    "\n",
    "# from langchain_huggingface import HuggingFaceEmbeddings\n",
    "\n",
    "# embeddings = HuggingFaceEmbeddings(model_name=\"sentence-transformers/all-MiniLM-L6-v2\")\n",
    "# text = \"This is a blog post on vector embeddings.\"\n",
    "# embeddings_result = embeddings.embed_query(text)\n",
    "\n",
    "# print(f\"Length: {len(embeddings_result)}\")\n",
    "# print(f\"First 10 dimensions: {embeddings_result[:10]}\")\n",
    "\n",
    "print(\"Hugging Face Embeddings Example:\")\n",
    "print(\"- Output: 384-dimensional vector\")\n",
    "print(\"- Free to use, great for local testing\")\n",
    "print(\"- Good balance of speed and quality\")\n",
    "print(\"- Model: sentence-transformers/all-MiniLM-L6-v2\")"
   ]
  },
  {
   "cell_type": "markdown",
   "id": "embedding_properties",
   "metadata": {},
   "source": [
    "## 6. Understanding Embedding Vector Properties\n",
    "\n",
    "Now that we've generated embeddings using LangChain, let's unpack what these vectors actually mean and how they're used in real-world applications."
   ]
  },
  {
   "cell_type": "markdown",
   "id": "fixed_length",
   "metadata": {},
   "source": [
    "### 6.1. Fixed Length, High Dimensions\n",
    "\n",
    "Each model generates a vector of a **fixed length** regardless of input length:\n",
    "- OpenAI (`text-embedding-3-large`) → 3072 dimensions\n",
    "- Hugging Face (`MiniLM-L6-v2`) → 384 dimensions\n",
    "\n",
    "This uniformity allows easy comparison and storage of diverse text inputs."
   ]
  },
  {
   "attachments": {
    "0*Jw4-wiq53fZsdZQ9.webp": {
     "image/webp": "[encoded data removed]"
    }
   },
   "cell_type": "markdown",
   "id": "feature_representations",
   "metadata": {},
   "source": [
    "### 6.2. Embeddings as Feature Representations\n",
    "\n",
    "Each element in the vector can be thought of as representing a **latent feature** of the text — like tone, topic, syntax, or sentiment.\n",
    "\n",
    "These features are learned from vast datasets and compressed into a space where similar meanings are **closer together**.\n",
    "\n",
    "![0*Jw4-wiq53fZsdZQ9.webp](attachment:0*Jw4-wiq53fZsdZQ9.webp)"
   ]
  },
  {
   "cell_type": "markdown",
   "id": "semantic_comparison",
   "metadata": {},
   "source": [
    "### 6.3. Use Case: Semantic Comparison\n",
    "\n",
    "You can now apply similarity metrics to compare how close two vectors are:"
   ]
  },
  {
   "cell_type": "code",
   "execution_count": null,
   "id": "semantic_comparison_example",
   "metadata": {},
   "outputs": [],
   "source": [
    "import numpy as np\n",
    "from sklearn.metrics.pairwise import cosine_similarity, euclidean_distances\n",
    "\n",
    "# Simulate embeddings for demonstration\n",
    "np.random.seed(42)\n",
    "embedding_dim = 384\n",
    "\n",
    "# Create mock embeddings that simulate real semantic relationships\n",
    "documents = [\n",
    "    \"What is the capital of USA?\",\n",
    "    \"Who is the president of USA?\", \n",
    "    \"Who is the Prime Minister of India?\",\n",
    "]\n",
    "\n",
    "my_query = \"Narendra Modi is the Prime Minister of India.\"\n",
    "\n",
    "# Mock embeddings (in practice, use real embedding models)\n",
    "query_embedding = np.random.randn(embedding_dim)\n",
    "doc_embeddings = [\n",
    "    np.random.randn(embedding_dim),\n",
    "    np.random.randn(embedding_dim), \n",
    "    query_embedding + np.random.randn(embedding_dim) * 0.1  # Make this more similar\n",
    "]\n",
    "\n",
    "# Calculate similarities\n",
    "cos_similarities = cosine_similarity([query_embedding], doc_embeddings)\n",
    "euclidean_dists = euclidean_distances([query_embedding], doc_embeddings)\n",
    "\n",
    "print(\"Documents:\")\n",
    "for i, doc in enumerate(documents):\n",
    "    print(f\"{i}: {doc}\")\n",
    "\n",
    "print(f\"\\nQuery: {my_query}\")\n",
    "print(f\"\\nCosine Similarities: {cos_similarities[0]}\")\n",
    "print(f\"Euclidean Distances: {euclidean_dists[0]}\")\n",
    "\n",
    "# Find most similar document\n",
    "most_similar_idx = np.argmax(cos_similarities[0])\n",
    "print(f\"\\nMost similar document: {documents[most_similar_idx]}\")"
   ]
  },
  {
   "cell_type": "markdown",
   "id": "similarity_metrics",
   "metadata": {},
   "source": [
    "**Similarity Metrics:**\n",
    "- **Cosine Similarity** → Measures angle (good for text)\n",
    "- **Euclidean Distance** → Measures absolute distance (less common in NLP)"
   ]
  },
  {
   "cell_type": "markdown",
   "id": "vector_vs_traditional_db",
   "metadata": {},
   "source": [
    "## 7. Vector Databases vs SQL/NoSQL Databases\n",
    "\n",
    "Traditional databases (SQL or NoSQL) are great at storing and retrieving structured data like numbers, strings, and relationships. But when it comes to **semantic search or similarity search**, they fall short.\n",
    "\n",
    "That's where **Vector Databases** come in."
   ]
  },
  {
   "attachments": {
    "1*9uHb_WLiciKZSVrITLAmfA.webp": {
     "image/webp": "[encoded data removed]"
    }
   },
   "cell_type": "markdown",
   "id": "traditional_databases",
   "metadata": {},
   "source": [
    "### 7.1. Traditional Databases\n",
    "\n",
    "These systems store **structured** or **semi-structured** data using tables or JSON-like documents. But they can't perform vector similarity operations like cosine similarity natively.\n",
    "\n",
    "![1*9uHb_WLiciKZSVrITLAmfA.webp](attachment:1*9uHb_WLiciKZSVrITLAmfA.webp)"
   ]
  },
  {
   "attachments": {
    "1*YIiAq2A7fOtZEjsKel5Z1Q.webp": {
     "image/webp": "[encoded data removed]"
    }
   },
   "cell_type": "markdown",
   "id": "vector_databases",
   "metadata": {},
   "source": [
    "### 7.2. Vector Databases\n",
    "\n",
    "Vector DBs store **embeddings** and allow efficient **nearest-neighbor search**. They are optimized for:\n",
    "- **Semantic search**\n",
    "- **Recommendation engines**\n",
    "- **Clustering and anomaly detection**\n",
    "\n",
    "![1*YIiAq2A7fOtZEjsKel5Z1Q.webp](attachment:1*YIiAq2A7fOtZEjsKel5Z1Q.webp)"
   ]
  },
  {
   "cell_type": "markdown",
   "id": "why_use_vector_db",
   "metadata": {},
   "source": [
    "### 7.3. Why Use a Vector DB?\n",
    "\n",
    "1. **Fast Similarity Search** - Use approximate nearest neighbor (ANN) algorithms like HNSW or IVF for millisecond-level retrieval.\n",
    "2. **Metadata Filtering** - Combine similarity with filters like price range, category, tags, etc.\n",
    "3. **Scalable & Distributed** - Cloud vector DBs scale to millions of records."
   ]
  },
  {
   "cell_type": "markdown",
   "id": "indexing_similarity_search",
   "metadata": {},
   "source": [
    "## 8. Indexing & Similarity Search in Vector Databases\n",
    "\n",
    "Vector search isn't just about comparing every vector to every other one — that would be too slow. Instead, vector databases use **indexing** techniques to make similarity search lightning-fast and scalable."
   ]
  },
  {
   "cell_type": "markdown",
   "id": "vector_index",
   "metadata": {},
   "source": [
    "### 8.1. What Is a Vector Index?\n",
    "\n",
    "An **index** is a data structure that enables fast search over a collection of vectors. Without it, every search would require comparing a query to every item in the database (O(n) time)."
   ]
  },
  {
   "cell_type": "markdown",
   "id": "types_of_indexes",
   "metadata": {},
   "source": [
    "### 8.2. Types of Vector Indexes\n",
    "\n",
    "#### 8.2.1 Flat Index (Brute Force)\n",
    "- Checks similarity against every stored vector\n",
    "- Accurate, but slow for large datasets\n",
    "- Best for small datasets or testing"
   ]
  },
  {
   "cell_type": "code",
   "execution_count": null,
   "id": "flat_index_example",
   "metadata": {},
   "outputs": [],
   "source": [
    "# FAISS flat index example\n",
    "# !pip install faiss-cpu\n",
    "\n",
    "# import faiss\n",
    "# import numpy as np\n",
    "\n",
    "# # Create sample data\n",
    "# dimension = 384\n",
    "# n_vectors = 1000\n",
    "# vectors = np.random.random((n_vectors, dimension)).astype('float32')\n",
    "\n",
    "# # Create flat index\n",
    "# index = faiss.IndexFlatL2(dimension)\n",
    "# index.add(vectors)\n",
    "\n",
    "# print(f\"Index trained: {index.is_trained}\")\n",
    "# print(f\"Total vectors: {index.ntotal}\")\n",
    "\n",
    "print(\"FAISS Flat Index Example:\")\n",
    "print(\"- Exact search, 100% recall\")\n",
    "print(\"- O(n) time complexity\")\n",
    "print(\"- Good for < 10,000 vectors\")"
   ]
  },
  {
   "cell_type": "markdown",
   "id": "hnsw_index",
   "metadata": {},
   "source": [
    "#### 8.2.2. HNSW (Hierarchical Navigable Small World)\n",
    "- Graph-based structure\n",
    "- Very fast and scalable\n",
    "- Slightly approximate, but high accuracy\n",
    "\n",
    "*Used in Weaviate, Qdrant, and FAISS with `IndexHNSWFlat`*"
   ]
  },
  {
   "cell_type": "markdown",
   "id": "ivf_index",
   "metadata": {},
   "source": [
    "#### 8.2.3. IVF (Inverted File Index)\n",
    "- Clusters vectors into groups (like k-means)\n",
    "- First searches in a few clusters\n",
    "- Faster, but needs training and tuning\n",
    "\n",
    "*Used in FAISS with `IndexIVFFlat`*"
   ]
  },
  {
   "attachments": {
    "1*fTP9DL_OKynWzteATPiBVw.webp": {
     "image/webp": "[encoded data removed]"
    }
   },
   "cell_type": "markdown",
   "id": "similarity_metrics_detailed",
   "metadata": {},
   "source": [
    "### 8.3. Similarity Metrics\n",
    "- **Cosine Similarity** → Best for text\n",
    "- **Euclidean Distance** → Good for spatial data\n",
    "- **Dot Product** → Used in some deep learning models\n",
    "\n",
    "![1*fTP9DL_OKynWzteATPiBVw.webp](attachment:1*fTP9DL_OKynWzteATPiBVw.webp)"
   ]
  },
  {
   "cell_type": "code",
   "execution_count": null,
   "id": "similarity_metrics_example",
   "metadata": {},
   "outputs": [],
   "source": [
    "from sklearn.metrics.pairwise import cosine_similarity\n",
    "import numpy as np\n",
    "\n",
    "# Example vectors\n",
    "vector1 = np.array([[1, 2, 3, 4, 5]])\n",
    "vector2 = np.array([[2, 4, 6, 8, 10]])\n",
    "vector3 = np.array([[1, 1, 1, 1, 1]])\n",
    "\n",
    "print(\"Cosine Similarities:\")\n",
    "print(f\"Vector1 vs Vector2: {cosine_similarity(vector1, vector2)[0][0]:.4f}\")\n",
    "print(f\"Vector1 vs Vector3: {cosine_similarity(vector1, vector3)[0][0]:.4f}\")\n",
    "print(f\"Vector2 vs Vector3: {cosine_similarity(vector2, vector3)[0][0]:.4f}\")\n",
    "\n",
    "# Note: Vector1 and Vector2 are perfectly similar (cosine = 1.0) \n",
    "# because Vector2 is just Vector1 * 2"
   ]
  },
  {
   "cell_type": "markdown",
   "id": "mini_project",
   "metadata": {},
   "source": [
    "## 9. Mini Project: Semantic Search using LangChain + OpenAI + FAISS\n",
    "\n",
    "Let's build a **search interface** where a user types a query, and the app returns the most semantically similar sentence from a small dataset using embeddings and FAISS.\n",
    "\n",
    "This mini-project shows how to:\n",
    "1. Convert text into embeddings using OpenAI via LangChain\n",
    "2. Store them in a FAISS vector index\n",
    "3. Perform a similarity search"
   ]
  },
  {
   "cell_type": "markdown",
   "id": "project_setup",
   "metadata": {},
   "source": [
    "### Step 1: Setup\n",
    "\n",
    "Install required libraries and set up environment:"
   ]
  },
  {
   "cell_type": "code",
   "execution_count": null,
   "id": "project_install",
   "metadata": {},
   "outputs": [],
   "source": [
    "# Install required libraries\n",
    "# !pip install langchain faiss-cpu openai python-dotenv langchain-community langchain-openai\n",
    "\n",
    "import os\n",
    "from dotenv import load_dotenv\n",
    "\n",
    "# Load environment variables\n",
    "load_dotenv()\n",
    "\n",
    "print(\"Setup complete!\")\n",
    "print(\"Make sure your .env file contains:\")\n",
    "print(\"OPENAI_API_KEY=sk-xxxxxxxxxxxxxxxxxxxxxxxx\")"
   ]
  },
  {
   "cell_type": "markdown",
   "id": "project_imports",
   "metadata": {},
   "source": [
    "### Step 2: Import Libraries and Initialize Embeddings"
   ]
  },
  {
   "cell_type": "code",
   "execution_count": null,
   "id": "project_imports_code",
   "metadata": {},
   "outputs": [],
   "source": [
    "# Note: Uncomment and run if you have OpenAI API key\n",
    "\n",
    "# from langchain_openai import OpenAIEmbeddings\n",
    "# import faiss\n",
    "# from langchain_community.vectorstores import FAISS\n",
    "# from langchain_community.docstore.in_memory import InMemoryDocstore\n",
    "\n",
    "# Initialize OpenAI embeddings\n",
    "# embeddings = OpenAIEmbeddings(model=\"text-embedding-3-large\")\n",
    "# print(\"OpenAI embeddings initialized!\")\n",
    "\n",
    "print(\"Imports ready (uncomment to use with API key)\")"
   ]
  },
  {
   "cell_type": "markdown",
   "id": "project_corpus",
   "metadata": {},
   "source": [
    "### Step 3: Create Your Corpus"
   ]
  },
  {
   "cell_type": "code",
   "execution_count": null,
   "id": "project_corpus_code",
   "metadata": {},
   "outputs": [],
   "source": [
    "documents = [\n",
    "    \"Artificial Intelligence is the simulation of human intelligence by machines.\",\n",
    "    \"Machine learning is a field of AI that uses statistical techniques.\",\n",
    "    \"Embeddings convert natural language to numerical vectors.\",\n",
    "    \"OpenAI develops powerful language models like GPT-4.\",\n",
    "    \"FAISS is a library for efficient similarity search and clustering of dense vectors.\"\n",
    "]\n",
    "\n",
    "print(\"Document corpus:\")\n",
    "for i, doc in enumerate(documents):\n",
    "    print(f\"{i+1}. {doc}\")"
   ]
  },
  {
   "cell_type": "markdown",
   "id": "project_embeddings",
   "metadata": {},
   "source": [
    "### Step 4: Generate Embeddings"
   ]
  },
  {
   "cell_type": "code",
   "execution_count": null,
   "id": "project_embeddings_code",
   "metadata": {},
   "outputs": [],
   "source": [
    "# Note: Uncomment to run with actual OpenAI API\n",
    "\n",
    "# Method 1: Simple approach\n",
    "# embedded_docs = [embeddings.embed_query(doc) for doc in documents]\n",
    "\n",
    "# Method 2: Optimal approach (batch processing)\n",
    "# embedded_docs = embeddings.embed_documents(documents)\n",
    "\n",
    "# print(f\"Generated embeddings for {len(documents)} documents\")\n",
    "# print(f\"Each embedding has {len(embedded_docs[0])} dimensions\")\n",
    "\n",
    "print(\"Embeddings generation step (requires API key)\")\n",
    "print(\"This would create 3072-dimensional vectors for each document\")"
   ]
  },
  {
   "cell_type": "markdown",
   "id": "project_faiss",
   "metadata": {},
   "source": [
    "### Step 5: Store in FAISS and Query"
   ]
  },
  {
   "cell_type": "code",
   "execution_count": null,
   "id": "project_faiss_code",
   "metadata": {},
   "outputs": [],
   "source": [
    "# Note: Complete implementation with API key\n",
    "\n",
    "# # Get embedding dimension\n",
    "# embedding_dim = len(embeddings.embed_query(\"hello world\"))\n",
    "# print(f\"Embedding dimension: {embedding_dim}\")\n",
    "\n",
    "# # Create FAISS index\n",
    "# faiss_index = faiss.IndexFlatL2(embedding_dim)\n",
    "\n",
    "# # Create FAISS vector store\n",
    "# FAISS_vector_store = FAISS(\n",
    "#     embedding_function=embeddings,\n",
    "#     index=faiss_index,\n",
    "#     docstore=InMemoryDocstore(),\n",
    "#     index_to_docstore_id={},\n",
    "# )\n",
    "\n",
    "# # Add documents to the vector store\n",
    "# FAISS_vector_store.add_texts(documents)\n",
    "# print(\"Documents added to FAISS index!\")\n",
    "\n",
    "print(\"FAISS setup and indexing step\")"
   ]
  },
  {
   "cell_type": "markdown",
   "id": "project_search",
   "metadata": {},
   "source": [
    "### Step 6: Perform Semantic Search"
   ]
  },
  {
   "cell_type": "code",
   "execution_count": null,
   "id": "project_search_code",
   "metadata": {},
   "outputs": [],
   "source": [
    "# # Perform similarity search\n",
    "# query = \"What is FAISS used for?\"\n",
    "# results = FAISS_vector_store.similarity_search(query, k=2)\n",
    "\n",
    "# print(f\"Query: {query}\")\n",
    "# print(\"\\nTop 2 most similar documents:\")\n",
    "# for i, result in enumerate(results):\n",
    "#     print(f\"{i+1}. {result.page_content}\")\n",
    "\n",
    "# # With similarity scores\n",
    "# results_with_scores = FAISS_vector_store.similarity_search_with_score(query, k=2)\n",
    "# print(\"\\nWith similarity scores:\")\n",
    "# for i, (result, score) in enumerate(results_with_scores):\n",
    "#     print(f\"{i+1}. Score: {score:.4f} - {result.page_content}\")\n",
    "\n",
    "print(\"Semantic search results:\")\n",
    "print(\"Query: 'What is FAISS used for?'\")\n",
    "print(\"\\nExpected top result:\")\n",
    "print(\"1. FAISS is a library for efficient similarity search and clustering of dense vectors.\")\n",
    "print(\"\\nThis demonstrates semantic understanding - the query matches the most relevant document!\")"
   ]
  },
  {
   "cell_type": "markdown",
   "id": "project_complete",
   "metadata": {},
   "source": [
    "### Complete Working Example (Simulation)\n",
    "\n",
    "Here's a simulation of how the semantic search would work:"
   ]
  },
  {
   "cell_type": "code",
   "execution_count": null,
   "id": "project_simulation",
   "metadata": {},
   "outputs": [],
   "source": [
    "import numpy as np\n",
    "from sklearn.metrics.pairwise import cosine_similarity\n",
    "\n",
    "# Simulate the semantic search process\n",
    "def simulate_semantic_search(documents, query, top_k=2):\n",
    "    \"\"\"\n",
    "    Simulate semantic search using random embeddings.\n",
    "    In practice, use real embeddings from OpenAI or HuggingFace.\n",
    "    \"\"\"\n",
    "    np.random.seed(42)  # For reproducible results\n",
    "    \n",
    "    # Create mock embeddings (384 dimensions)\n",
    "    embedding_dim = 384\n",
    "    doc_embeddings = []\n",
    "    \n",
    "    # Create embeddings that favor FAISS-related content\n",
    "    for i, doc in enumerate(documents):\n",
    "        if \"FAISS\" in doc:\n",
    "            # Make FAISS document more similar to query about FAISS\n",
    "            embedding = np.random.randn(embedding_dim) * 0.5 + 1.0\n",
    "        else:\n",
    "            embedding = np.random.randn(embedding_dim)\n",
    "        doc_embeddings.append(embedding)\n",
    "    \n",
    "    # Query embedding (similar to FAISS document)\n",
    "    if \"FAISS\" in query:\n",
    "        query_embedding = np.random.randn(embedding_dim) * 0.5 + 1.0\n",
    "    else:\n",
    "        query_embedding = np.random.randn(embedding_dim)\n",
    "    \n",
    "    # Calculate similarities\n",
    "    similarities = []\n",
    "    for doc_emb in doc_embeddings:\n",
    "        sim = cosine_similarity([query_embedding], [doc_emb])[0][0]\n",
    "        similarities.append(sim)\n",
    "    \n",
    "    # Get top-k results\n",
    "    top_indices = np.argsort(similarities)[::-1][:top_k]\n",
    "    \n",
    "    return [(documents[i], similarities[i]) for i in top_indices]\n",
    "\n",
    "# Run simulation\n",
    "query = \"What is FAISS used for?\"\n",
    "results = simulate_semantic_search(documents, query, top_k=2)\n",
    "\n",
    "print(f\"Query: {query}\")\n",
    "print(\"\\nTop 2 most similar documents:\")\n",
    "for i, (doc, score) in enumerate(results):\n",
    "    print(f\"{i+1}. Score: {score:.4f}\")\n",
    "    print(f\"   {doc}\\n\")\n",
    "\n",
    "print(\"With less than 50 lines of code, you've built a fully functional semantic search system!\")"
   ]
  },
  {
   "cell_type": "markdown",
   "id": "use_cases",
   "metadata": {},
   "source": [
    "## 10. Use Cases & Applications of Embeddings\n",
    "\n",
    "Embeddings are not just a buzzword — they power some of the most useful features in modern AI systems. Here are some practical, real-world applications:"
   ]
  },
  {
   "cell_type": "markdown",
   "id": "semantic_search_usecase",
   "metadata": {},
   "source": [
    "### 1. Semantic Search\n",
    "\n",
    "Search results based on **meaning**, not exact keywords.\n",
    "\n",
    "**Example:**\n",
    "- Query: \"How to build neural networks?\"\n",
    "- Matches: \"Guide to deep learning architectures\" instead of only exact keyword hits."
   ]
  },
  {
   "cell_type": "markdown",
   "id": "recommendation_systems",
   "metadata": {},
   "source": [
    "### 2. Recommendation Systems\n",
    "\n",
    "Find similar items, products, or content by comparing embedding vectors.\n",
    "\n",
    "**Example:**\n",
    "- Users who viewed this article also liked...\n",
    "- Movie, book, or product similarity"
   ]
  },
  {
   "cell_type": "markdown",
   "id": "chatbots_rag",
   "metadata": {},
   "source": [
    "### 3. Chatbots & RAG Applications\n",
    "\n",
    "Use vector search to retrieve the most relevant context for large language models (LLMs).\n",
    "\n",
    "**Example:**\n",
    "- LangChain's Retrieval-Augmented Generation (RAG)\n",
    "- Customer support bots that pull from internal docs"
   ]
  },
  {
   "cell_type": "markdown",
   "id": "text_clustering",
   "metadata": {},
   "source": [
    "### 4. Text Clustering & Classification\n",
    "\n",
    "Group similar texts (e.g., reviews, tickets, tweets) without explicit labels.\n",
    "\n",
    "**Example:**\n",
    "- Grouping feedback into themes\n",
    "- Spam vs. not spam"
   ]
  },
  {
   "cell_type": "markdown",
   "id": "anomaly_detection",
   "metadata": {},
   "source": [
    "### 5. Anomaly Detection\n",
    "\n",
    "Identify data points that deviate from the norm using vector distance.\n",
    "\n",
    "**Example:**\n",
    "- Fraud detection\n",
    "- Outlier reviews or sensor readings"
   ]
  },
  {
   "cell_type": "markdown",
   "id": "personalization",
   "metadata": {},
   "source": [
    "### 6. Personalization\n",
    "\n",
    "Use embeddings to personalize user feeds, content recommendations, or search results.\n",
    "\n",
    "**Example:**\n",
    "- Tailored course recommendations\n",
    "- Adaptive learning platforms"
   ]
  },
  {
   "cell_type": "markdown",
   "id": "practical_example",
   "metadata": {},
   "source": [
    "### Practical Example: Document Similarity"
   ]
  },
  {
   "cell_type": "code",
   "execution_count": null,
   "id": "document_similarity_example",
   "metadata": {},
   "outputs": [],
   "source": [
    "# Example of how embeddings enable document similarity\n",
    "sample_documents = [\n",
    "    \"The quick brown fox jumps over the lazy dog\",\n",
    "    \"A fast brown fox leaps over a sleepy dog\",  # Similar meaning\n",
    "    \"Machine learning algorithms process data efficiently\",\n",
    "    \"Artificial intelligence systems analyze information quickly\",  # Similar meaning\n",
    "    \"The weather is sunny today with clear skies\"\n",
    "]\n",
    "\n",
    "print(\"Document Similarity Use Case:\")\n",
    "print(\"\\nSample Documents:\")\n",
    "for i, doc in enumerate(sample_documents):\n",
    "    print(f\"{i+1}. {doc}\")\n",
    "\n",
    "print(\"\\nEmbeddings would identify:\")\n",
    "print(\"- Documents 1 & 2 as similar (both about fox and dog)\")\n",
    "print(\"- Documents 3 & 4 as similar (both about AI/ML)\")\n",
    "print(\"- Document 5 as different (about weather)\")\n",
    "\n",
    "print(\"\\nThis enables:\")\n",
    "print(\"✓ Duplicate detection\")\n",
    "print(\"✓ Content recommendation\")\n",
    "print(\"✓ Automatic categorization\")\n",
    "print(\"✓ Similar article suggestions\")"
   ]
  },
  {
   "cell_type": "markdown",
   "id": "conclusion",
   "metadata": {},
   "source": [
    "## Conclusion & Further Resources\n",
    "\n",
    "We've come a long way in this journey — from understanding what embeddings are to building a working semantic search system using OpenAI and LangChain.\n",
    "\n",
    "### Recap\n",
    "\n",
    "- **Embeddings convert text into meaningful numerical vectors.**\n",
    "- **They power everything from search engines and recommendation systems to LLM-based apps.**\n",
    "- **LangChain and FAISS make it easy to generate, store, and search embeddings efficiently.**\n",
    "\n",
    "Whether you're building a chatbot, smart search engine, or your next AI side project — **embeddings are your foundation**.\n",
    "\n",
    "### Next Steps\n",
    "\n",
    "1. **Get API Keys**: Set up OpenAI and HuggingFace accounts\n",
    "2. **Run the Code**: Execute the examples in this notebook\n",
    "3. **Build Your Own**: Create a semantic search for your domain\n",
    "4. **Scale Up**: Explore vector databases like Pinecone, Weaviate, or Qdrant\n",
    "5. **Learn RAG**: Build Retrieval-Augmented Generation applications\n",
    "\n",
    "### Additional Resources\n",
    "\n",
    "- **LangChain Documentation**: https://python.langchain.com/\n",
    "- **OpenAI Embeddings Guide**: https://platform.openai.com/docs/guides/embeddings\n",
    "- **FAISS Documentation**: https://faiss.ai/\n",
    "- **Sentence Transformers**: https://www.sbert.net/\n",
    "- **Vector Database Comparison**: Research Pinecone, Weaviate, Qdrant, Chroma\n",
    "\n",
    "Happy embedding! 🚀"
   ]
  },
  {
   "cell_type": "markdown",
   "id": "installation_requirements",
   "metadata": {},
   "source": [
    "## Installation Requirements\n",
    "\n",
    "To run this notebook, install the following packages:\n",
    "\n",
    "```bash\n",
    "pip install langchain-openai langchain-huggingface langchain-community\n",
    "pip install faiss-cpu python-dotenv\n",
    "pip install nltk scikit-learn gensim\n",
    "pip install sentence-transformers  # Optional, for advanced examples\n",
    "```\n",
    "\n",
    "### Environment Setup\n",
    "\n",
    "Create a `.env` file in your project directory:\n",
    "\n",
    "```\n",
    "OPENAI_API_KEY=your_openai_api_key_here\n",
    "HF_TOKEN=your_huggingface_token_here\n",
    "```\n",
    "\n",
    "### API Key Setup\n",
    "\n",
    "1. **OpenAI**: Get your API key from https://platform.openai.com/api-keys\n",
    "2. **HuggingFace**: Get your token from https://huggingface.co/settings/tokens\n",
    "\n",
    "Now you're ready to run all the examples in this notebook!"
   ]
  }
 ],
 "metadata": {
  "kernelspec": {
   "display_name": "Python 3",
   "language": "python",
   "name": "python3"
  },
  "language_info": {
   "codemirror_mode": {
    "name": "ipython",
    "version": 3
   },
   "file_extension": ".py",
   "mimetype": "text/x-python",
   "name": "python",
   "nbconvert_exporter": "python",
   "pygments_lexer": "ipython3",
   "version": "3.8.0"
  }
 },
 "nbformat": 4,
 "nbformat_minor": 5
}
