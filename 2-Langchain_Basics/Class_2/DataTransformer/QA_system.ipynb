{
 "cells": [
  {
   "cell_type": "markdown",
   "id": "c60fcb69",
   "metadata": {},
   "source": [
    "##### Retrieval-Augmented Generation (RAG) Full Pipeline Example"
   ]
  },
  {
   "cell_type": "code",
   "execution_count": null,
   "id": "d9b84cf8",
   "metadata": {},
   "outputs": [],
   "source": [
    "from langchain_community.document_loaders import TextLoader"
   ]
  },
  {
   "cell_type": "code",
   "execution_count": null,
   "id": "fe244e17",
   "metadata": {},
   "outputs": [],
   "source": [
    "#load the text document\n",
    "loader = TextLoader(\"speech.txt\")\n",
    "documents = loader.load()\n",
    "print(f\"Loaded{len(documents)}document.\")\n",
    "for doc in documents:\n",
    "    print(f\"preview:{doc.page_content[:100]}...\") #show first 100 characters "
   ]
  },
  {
   "cell_type": "code",
   "execution_count": null,
   "id": "818bb755",
   "metadata": {},
   "outputs": [],
   "source": [
    "#Split the document into chunks\n",
    "\n",
    "from langchain_text_splitters import RecursiveCharacterTextSplitter\n",
    "text_splitter = RecursiveCharacterTextSplitter(chunk_size=500, chunk_overlap=100)\n",
    "split_docs = text_splitter.split_documents(documents)\n",
    "print(f\"Split into {len(split_docs)} chunks.\")"
   ]
  },
  {
   "cell_type": "code",
   "execution_count": null,
   "id": "c4a0b065",
   "metadata": {},
   "outputs": [],
   "source": [
    "#create an embedding and vector store\n",
    "from langchain_openai import OpenAIEmbeddings\n",
    "from langchain.vectorstores import FAISS\n",
    "\n",
    "embedding_model = OpenAIEmbeddings()\n",
    "vector_store = FAISS.from_documents(split_docs, embedding_model)\n",
    "print(\"Vector store created.\")"
   ]
  },
  {
   "cell_type": "code",
   "execution_count": null,
   "id": "2911a77d",
   "metadata": {},
   "outputs": [],
   "source": [
    "#create a retriever for similarity search\n",
    "retriever = vector_store.as_retreiver(search_type=\"similarity\", search_kwargs={\"k\": 3})"
   ]
  },
  {
   "cell_type": "code",
   "execution_count": null,
   "id": "93848c62",
   "metadata": {},
   "outputs": [],
   "source": [
    "#retreive relenvant chunks from the vector store \n",
    "query = \"What are the main points of the speech?\"\n",
    "retrieved_docs = retriever.get_relevant_documents(query)\n",
    "print(f\"Retrieved {len(retrieved_docs)} relevant documents.\")\n",
    "for i, doc in enumerate(retrieved_docs):\n",
    "    print(f\"\\nChunks {i+1}: {doc.page_content[:200]}...\")  # Show first 100 characters of each retrieved document"
   ]
  },
  {
   "cell_type": "code",
   "execution_count": null,
   "id": "474dc209",
   "metadata": {},
   "outputs": [],
   "source": [
    "#setup a prompt and LLM for answer generation\n",
    "from langchain.prompts import PromptTemplate\n",
    "from langchain_openai import OpenAI\n",
    "from langchain_core.output_parsers import StrOutputParser\n",
    "\n",
    "prompt = PromptTemplate(\n",
    "    \"give the context below, answer the user's questions. \\n\\n {context}\\n\\n Question: {question}\\n\\n Answer: \",\n",
    ")\n",
    "llm = OpenAI(model=\"gpt-3.5-turbo\")\n",
    "output_parser = StrOutputParser()"
   ]
  },
  {
   "cell_type": "code",
   "execution_count": null,
   "id": "63cd8d92",
   "metadata": {},
   "outputs": [],
   "source": [
    "#prepare the context and run RAG application\n",
    "context = \"\\n\\n\".join([doc.page_content for doc in retrieved_docs])\n",
    "chain_with_parser = prompt | llm | output_parser\n",
    "\n",
    "response = chain_with_parser.invoke({\n",
    "    \"context\": context,\n",
    "    \"question\": query\n",
    "}) \n",
    "print(f\"Response: {response['output']}\")"
   ]
  }
 ],
 "metadata": {
  "kernelspec": {
   "display_name": "base",
   "language": "python",
   "name": "python3"
  },
  "language_info": {
   "codemirror_mode": {
    "name": "ipython",
    "version": 3
   },
   "file_extension": ".py",
   "mimetype": "text/x-python",
   "name": "python",
   "nbconvert_exporter": "python",
   "pygments_lexer": "ipython3",
   "version": "3.13.2"
  }
 },
 "nbformat": 4,
 "nbformat_minor": 5
}
