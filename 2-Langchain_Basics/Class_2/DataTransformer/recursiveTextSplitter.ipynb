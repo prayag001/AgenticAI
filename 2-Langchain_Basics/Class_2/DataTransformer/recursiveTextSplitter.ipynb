{
 "cells": [
  {
   "cell_type": "markdown",
   "id": "3347d288",
   "metadata": {},
   "source": [
    "TextSplitter, Document Loader, Data Transformer"
   ]
  },
  {
   "cell_type": "code",
   "execution_count": 1,
   "id": "da961b0c",
   "metadata": {},
   "outputs": [],
   "source": [
    "from langchain_text_splitters import RecursiveCharacterTextSplitter"
   ]
  },
  {
   "cell_type": "code",
   "execution_count": null,
   "id": "491b2ec3",
   "metadata": {},
   "outputs": [],
   "source": [
    "from langchain_community.document_loaders import PyPDFLoader\n",
    "\n",
    "loader = PyPDFLoader(\"syllabus.pdf\")\n",
    "doc = loader.load()\n",
    "doc"
   ]
  },
  {
   "cell_type": "code",
   "execution_count": 3,
   "id": "3c233f58",
   "metadata": {},
   "outputs": [],
   "source": [
    "text_splitter = RecursiveCharacterTextSplitter(chunk_size=1000, chunk_overlap=200)\n",
    "final_document = text_splitter.split_documents(doc)"
   ]
  },
  {
   "cell_type": "code",
   "execution_count": 4,
   "id": "5d1bedb4",
   "metadata": {},
   "outputs": [
    {
     "data": {
      "text/plain": [
       "'MACHINE\\nLEARNINGDEEP\\nLEARNINGPYTHON +\\nSTATS\\nCOMPUTER VISION NATURAL LANGUAGE PROCESSING\\nGENERATIVE AIRETRIEVAL AUGUMENT GENERATION\\nVECTOR DB'"
      ]
     },
     "execution_count": 4,
     "metadata": {},
     "output_type": "execute_result"
    }
   ],
   "source": [
    "final_document[0].page_content"
   ]
  },
  {
   "cell_type": "code",
   "execution_count": null,
   "id": "119a07f5",
   "metadata": {},
   "outputs": [],
   "source": [
    "final_document[1].page_content"
   ]
  },
  {
   "cell_type": "code",
   "execution_count": null,
   "id": "d56a96b4",
   "metadata": {},
   "outputs": [],
   "source": [
    "final_document[2].page_content"
   ]
  },
  {
   "cell_type": "code",
   "execution_count": 32,
   "id": "7457c4d0",
   "metadata": {},
   "outputs": [],
   "source": [
    "from langchain_community.document_loaders import TextLoader"
   ]
  },
  {
   "cell_type": "code",
   "execution_count": null,
   "id": "7d0a7fec",
   "metadata": {},
   "outputs": [],
   "source": [
    "textloader = TextLoader(\"speech.txt\")\n",
    "docs= textloader.load()\n",
    "docs"
   ]
  },
  {
   "cell_type": "code",
   "execution_count": 42,
   "id": "df0ef062",
   "metadata": {},
   "outputs": [],
   "source": [
    "speech= \"\"\n",
    "with open(\"speech.txt\")as f:\n",
    "    speech = f.read()"
   ]
  },
  {
   "cell_type": "code",
   "execution_count": null,
   "id": "fcb67027",
   "metadata": {},
   "outputs": [],
   "source": [
    "text_splitter = RecursiveCharacterTextSplitter(chunk_size=500, chunk_overlap=100)\n",
    "text = text_splitter.create_documents([speech])"
   ]
  },
  {
   "cell_type": "code",
   "execution_count": null,
   "id": "38721fd6",
   "metadata": {},
   "outputs": [],
   "source": [
    "text[0].page_content "
   ]
  }
 ],
 "metadata": {
  "kernelspec": {
   "display_name": "Python 3",
   "language": "python",
   "name": "python3"
  },
  "language_info": {
   "codemirror_mode": {
    "name": "ipython",
    "version": 3
   },
   "file_extension": ".py",
   "mimetype": "text/x-python",
   "name": "python",
   "nbconvert_exporter": "python",
   "pygments_lexer": "ipython3",
   "version": "3.10.18"
  }
 },
 "nbformat": 4,
 "nbformat_minor": 5
}
