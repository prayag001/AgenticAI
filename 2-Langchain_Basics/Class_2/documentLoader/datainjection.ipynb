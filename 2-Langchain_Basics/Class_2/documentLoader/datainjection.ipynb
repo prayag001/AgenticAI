{
 "cells": [
  {
   "cell_type": "code",
   "execution_count": 2,
   "id": "d8c44c4e",
   "metadata": {},
   "outputs": [],
   "source": [
    "from langchain_community.document_loaders.text import TextLoader"
   ]
  },
  {
   "cell_type": "code",
   "execution_count": null,
   "id": "7ec6e9eb",
   "metadata": {},
   "outputs": [],
   "source": [
    "loader = TextLoader(\"speech.txt\", encoding=\"utf-8\")\n",
    "loader"
   ]
  },
  {
   "cell_type": "code",
   "execution_count": null,
   "id": "0ab9ae4a",
   "metadata": {},
   "outputs": [],
   "source": [
    "text_document = loader.load()\n",
    "text_document"
   ]
  },
  {
   "cell_type": "code",
   "execution_count": 4,
   "id": "876ea990",
   "metadata": {},
   "outputs": [],
   "source": [
    "#Read a pdf file\n",
    "from langchain_community.document_loaders import PyPDFLoader"
   ]
  },
  {
   "cell_type": "code",
   "execution_count": 5,
   "id": "82e1ffac",
   "metadata": {},
   "outputs": [],
   "source": [
    "loader= PyPDFLoader(\"syllabus.pdf\")"
   ]
  },
  {
   "cell_type": "code",
   "execution_count": null,
   "id": "77aeb441",
   "metadata": {},
   "outputs": [],
   "source": [
    "docs = loader.load()\n",
    "docs"
   ]
  },
  {
   "cell_type": "code",
   "execution_count": null,
   "id": "85d700c1",
   "metadata": {},
   "outputs": [],
   "source": [
    "#web based loader\n",
    "from langchain_community.document_loaders import WebBaseLoader\n",
    "import bs4\n",
    "webloader = WebBaseLoader(web_path=(\"https://www.nltk.org/book/ch01.html\",),\n",
    "                          bs_kwargs=dict(parse_only=bs4.SoupStrainer(class_=(\"title\",\"header\")))\n",
    "                          )\n",
    "webDoc = webloader.load()\n",
    "webDoc"
   ]
  },
  {
   "cell_type": "code",
   "execution_count": 18,
   "id": "f8fcfdb3",
   "metadata": {},
   "outputs": [],
   "source": [
    "from langchain_community.document_loaders import WikipediaLoader"
   ]
  },
  {
   "cell_type": "code",
   "execution_count": 19,
   "id": "270da256",
   "metadata": {},
   "outputs": [
    {
     "data": {
      "text/plain": [
       "2"
      ]
     },
     "execution_count": 19,
     "metadata": {},
     "output_type": "execute_result"
    }
   ],
   "source": [
    "docs = WikipediaLoader(query=\"Generative AI\", load_max_docs=2).load()\n",
    "len(docs)"
   ]
  },
  {
   "cell_type": "code",
   "execution_count": null,
   "id": "8a10ad26",
   "metadata": {},
   "outputs": [],
   "source": [
    "docs[0].metadata  # metadata of the first document"
   ]
  },
  {
   "cell_type": "code",
   "execution_count": null,
   "id": "112b5cd0",
   "metadata": {},
   "outputs": [],
   "source": [
    "docs[0].page_content[:400]  # a part of the page content"
   ]
  }
 ],
 "metadata": {
  "kernelspec": {
   "display_name": "base",
   "language": "python",
   "name": "python3"
  },
  "language_info": {
   "codemirror_mode": {
    "name": "ipython",
    "version": 3
   },
   "file_extension": ".py",
   "mimetype": "text/x-python",
   "name": "python",
   "nbconvert_exporter": "python",
   "pygments_lexer": "ipython3",
   "version": "3.13.2"
  }
 },
 "nbformat": 4,
 "nbformat_minor": 5
}
