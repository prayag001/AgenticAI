{
 "cells": [
  {
   "cell_type": "markdown",
   "id": "205ee3ae",
   "metadata": {},
   "source": [
    "langgraph, inbuilt_tools"
   ]
  },
  {
   "cell_type": "code",
   "execution_count": 5,
   "id": "00d9e237",
   "metadata": {},
   "outputs": [],
   "source": [
    "from langchain_community.tools import WikipediaQueryRun"
   ]
  },
  {
   "cell_type": "code",
   "execution_count": 6,
   "id": "2dfdffb1",
   "metadata": {},
   "outputs": [],
   "source": [
    "from langchain_community.utilities import WikipediaAPIWrapper"
   ]
  },
  {
   "cell_type": "code",
   "execution_count": 9,
   "id": "799b2dde",
   "metadata": {},
   "outputs": [],
   "source": [
    "api_wrapper = WikipediaAPIWrapper(top_k_results=5, doc_content_chars_max=500)"
   ]
  },
  {
   "cell_type": "code",
   "execution_count": 11,
   "id": "0a9308fe",
   "metadata": {},
   "outputs": [],
   "source": [
    "wiki_tool = WikipediaQueryRun(api_wrapper = api_wrapper)"
   ]
  },
  {
   "cell_type": "code",
   "execution_count": 13,
   "id": "240e323a",
   "metadata": {},
   "outputs": [
    {
     "data": {
      "text/plain": [
       "'Page: Narendra Modi\\nSummary: Narendra Damodardas Modi (born 17 September 1950) is an Indian politician who has served as the  prime minister of India since 2014. Modi was the chief minister of Gujarat from 2001 to 2014 and is the member of parliament (MP) for Varanasi. He is a member of the Bharatiya Janata Party (BJP) and of the Rashtriya Swayamsevak Sangh (RSS), a right-wing Hindutva paramilitary volunteer organisation. He is the longest-serving prime minister outside the Indian National Congr'"
      ]
     },
     "execution_count": 13,
     "metadata": {},
     "output_type": "execute_result"
    }
   ],
   "source": [
    "wiki_tool.run(\"Narendra Modi\")"
   ]
  },
  {
   "cell_type": "code",
   "execution_count": 14,
   "id": "da885349",
   "metadata": {},
   "outputs": [],
   "source": [
    "from langchain_community.tools import YouTubeSearchTool"
   ]
  },
  {
   "cell_type": "code",
   "execution_count": 16,
   "id": "d9b06961",
   "metadata": {},
   "outputs": [],
   "source": [
    "youtube_tool = YouTubeSearchTool()"
   ]
  },
  {
   "cell_type": "code",
   "execution_count": 18,
   "id": "523ebf74",
   "metadata": {},
   "outputs": [
    {
     "data": {
      "text/plain": [
       "\"['https://www.youtube.com/watch?v=l77t2CVz1Xk&pp=ygUNTmFyZW5kcmEgTW9kaQ%3D%3D', 'https://www.youtube.com/shorts/jYOBvoJ0QIU']\""
      ]
     },
     "execution_count": 18,
     "metadata": {},
     "output_type": "execute_result"
    }
   ],
   "source": [
    "youtube_tool.run(\"Narendra Modi\")  # Example usage, replace with your query"
   ]
  },
  {
   "cell_type": "code",
   "execution_count": 19,
   "id": "5aa8c099",
   "metadata": {},
   "outputs": [],
   "source": [
    "from langchain_community.tools.tavily_search import TavilySearchResults"
   ]
  }
 ],
 "metadata": {
  "kernelspec": {
   "display_name": "Python 3",
   "language": "python",
   "name": "python3"
  },
  "language_info": {
   "codemirror_mode": {
    "name": "ipython",
    "version": 3
   },
   "file_extension": ".py",
   "mimetype": "text/x-python",
   "name": "python",
   "nbconvert_exporter": "python",
   "pygments_lexer": "ipython3",
   "version": "3.10.18"
  }
 },
 "nbformat": 4,
 "nbformat_minor": 5
}
